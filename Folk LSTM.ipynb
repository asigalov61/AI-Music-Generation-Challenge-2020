{
 "cells": [
  {
   "cell_type": "markdown",
   "metadata": {},
   "source": [
    "## Import required packages"
   ]
  },
  {
   "cell_type": "code",
   "execution_count": 1,
   "metadata": {},
   "outputs": [],
   "source": [
    "import os\n",
    "import datetime\n",
    "\n",
    "import tensorflow as tf\n",
    "\n",
    "from data.abc import ABCPreProcessor, ABCTokenizer\n",
    "from models.symbolic.rnn import FolkLSTM"
   ]
  },
  {
   "cell_type": "markdown",
   "metadata": {},
   "source": [
    "## Required files and directories"
   ]
  },
  {
   "cell_type": "code",
   "execution_count": 2,
   "metadata": {},
   "outputs": [],
   "source": [
    "BASE_DIR = \"/home/richhiey/Desktop/workspace/projects/AI_Music_Challenge_2020/\"\n",
    "SRC_DIR = os.path.join(BASE_DIR, 'AI-Music-Generation-Challenge-2020')\n",
    "ABC_DATA_DIR = os.path.join(BASE_DIR, \"datasets\", \"abc_data\")\n",
    "AUDIO_DATA_DIR = os.path.join(BASE_DIR, \"datasets\", \"audio\")\n",
    "ABC_TFRECORD_DIR = os.path.join(BASE_DIR, \"tfrecords\", 'abc')\n",
    "AUDIO_TFRECORD_DIR = os.path.join(BASE_DIR, \"tfrecords\", 'audio')\n",
    "PROCESSED_ABC_FILENAME = 'processed-abc-files'\n",
    "FOLK_LSTM_DIR = os.path.join(SRC_DIR, 'configs', 'lstm')\n",
    "TENSORBOARD_DIR = os.path.join(FOLK_LSTM_DIR, 'tensorboard')"
   ]
  },
  {
   "cell_type": "markdown",
   "metadata": {},
   "source": [
    "## Load preprocessed dataset"
   ]
  },
  {
   "cell_type": "code",
   "execution_count": 3,
   "metadata": {
    "scrolled": true
   },
   "outputs": [
    {
     "name": "stdout",
     "output_type": "stream",
     "text": [
      "<MapDataset shapes: ({K: (), M: (), R: (), tune_length: ()}, {input: (None, None), output: (None, None)}), types: ({K: tf.int64, M: tf.int64, R: tf.int64, tune_length: tf.int64}, {input: tf.int64, output: tf.int64})>\n",
      "<PrefetchDataset shapes: ({K: (None,), M: (None,), R: (None,), tune_length: (None,)}, {input: (None, None, None), output: (None, None, None)}), types: ({K: tf.int64, M: tf.int64, R: tf.int64, tune_length: tf.int64}, {input: tf.int64, output: tf.int64})>\n"
     ]
    }
   ],
   "source": [
    "preprocessor = ABCPreProcessor(ABC_TFRECORD_DIR, PROCESSED_ABC_FILENAME)\n",
    "preprocessed_dataset = preprocessor.load_tfrecord_dataset()\n",
    "dataset = preprocessor.prepare_dataset(preprocessed_dataset)\n",
    "print(dataset)"
   ]
  },
  {
   "cell_type": "markdown",
   "metadata": {},
   "source": [
    "# Folk-LSTM"
   ]
  },
  {
   "cell_type": "code",
   "execution_count": null,
   "metadata": {
    "scrolled": true
   },
   "outputs": [
    {
     "name": "stdout",
     "output_type": "stream",
     "text": [
      "/home/richhiey/Desktop/workspace/projects/AI_Music_Challenge_2020/AI-Music-Generation-Challenge-2020/configs/lstm/lstm.json\n",
      "{'tune_embedding_size': '16', 'rhythm_embedding_size': '16', 'key_embedding_size': '16', 'meter_embedding_size': '16', 'bidirectional': 'False', 'rnn': DictWrapper({'num_layers': '1', 'num_units': '512', 'unit_type': 'lstm'})}\n",
      "{'max_timesteps': 511, 'tune_vocab_size': 168, 'rhythm_vocab_size': 2, 'meter_vocab_size': 1, 'key_vocab_size': 17}\n",
      "{'tune_embedding_size': '16', 'rhythm_embedding_size': '16', 'key_embedding_size': '16', 'meter_embedding_size': '16', 'bidirectional': 'False', 'rnn': DictWrapper({'num_layers': '1', 'num_units': '512', 'unit_type': 'lstm'})}\n",
      "Restored from /home/richhiey/Desktop/workspace/projects/AI_Music_Challenge_2020/AI-Music-Generation-Challenge-2020/configs/lstm/ckpt/ckpt-8\n",
      "tf.Tensor(4.445822, shape=(), dtype=float32)\n",
      "---------- Generated Output -----------\n",
      "|||AAAAdddddddddddddddddddddddddddddddddddddddddddddddddddddddddddddddddddddddddddddddddddddddddddddddddddddddddddddddddddddddddddddddddddddddddddddddddddddd|\n",
      ".......................................\n",
      "Saved checkpoint for step 40: /home/richhiey/Desktop/workspace/projects/AI_Music_Challenge_2020/AI-Music-Generation-Challenge-2020/configs/lstm/ckpt/ckpt-9\n",
      "tf.Tensor(4.405987, shape=(), dtype=float32)\n",
      "---------- Generated Output -----------\n",
      "|||AAAAAAAAAAAAAAAAAAAAAAAAAAAAAAAAAAAAAAAAAAAAAAAAAAAAAAAAAAAAAAAAAAAAAAAAAAAAAAAAAAAAAAAAAAAAAAAAAAAAAAAAAAAAAAAAAAAAAAAAAAAAAAAAAAAAAAAAAAAAAAAAAAAAAAAAAAAAAAAAAAAAAAAAAAAAAAAAAAAAAAAAAAA\n",
      ".......................................\n",
      "tf.Tensor(4.4748874, shape=(), dtype=float32)\n",
      "---------- Generated Output -----------\n",
      "|||AAAAAAAAAAAAAAAAAAAAAAAAAAAAAAAAAAAAAAAAAAAAAAAAAAAAAAAAAAAAAAAAAAAAAAAAAAAAAAAAAAAAAAAAAAAAAAAAAAAAAAAAAAAAAAAAAAA\n",
      ".......................................\n",
      "tf.Tensor(4.379303, shape=(), dtype=float32)\n",
      "---------- Generated Output -----------\n",
      "|||AAAAAAAAAAAAAAAAAAAAAAAAAAAAAAAAAAAAAAAAAAAAAAAAAAAAAAAAAAAAAAAAAAAAAAAAAA|A|AAAA|A|AAAAAAAA|AA|A|AAAAAAAAAAAAAAAAAA\n",
      ".......................................\n",
      "tf.Tensor(4.373478, shape=(), dtype=float32)\n",
      "---------- Generated Output -----------\n",
      "|||AAAAA|||||||||||||||||||||||||||||||||||||||||||||||||||||||||||||||||||||||||||||||||||||||||||||||||||||||||||||||||||||||||||||||||||||||||||||||||||||||||\n",
      ".......................................\n",
      "tf.Tensor(4.4324136, shape=(), dtype=float32)\n",
      "---------- Generated Output -----------\n",
      "||||AA||||||||||||||||||||||||||||||||||||||||||||||||||||||||||||||||||||||||||||||||||||||||||||||||||||||||||||||||||||||||||\n",
      ".......................................\n"
     ]
    }
   ],
   "source": [
    "FOLK_LSTM_DIR = os.path.join(SRC_DIR, 'configs', 'lstm')\n",
    "data_dims = preprocessor.get_data_dimensions()\n",
    "model = FolkLSTM(FOLK_LSTM_DIR, data_dims, ABC_TFRECORD_DIR)\n",
    "\n",
    "print(data_dims)\n",
    "print(model.get_configs())\n",
    "\n",
    "model.train(dataset)"
   ]
  },
  {
   "cell_type": "markdown",
   "metadata": {},
   "source": [
    "# Generate 10000 double jigs!"
   ]
  },
  {
   "cell_type": "code",
   "execution_count": null,
   "metadata": {},
   "outputs": [],
   "source": [
    "model.generate_10000_double_jigs()"
   ]
  }
 ],
 "metadata": {
  "kernelspec": {
   "display_name": "Python 3",
   "language": "python",
   "name": "python3"
  },
  "language_info": {
   "codemirror_mode": {
    "name": "ipython",
    "version": 3
   },
   "file_extension": ".py",
   "mimetype": "text/x-python",
   "name": "python",
   "nbconvert_exporter": "python",
   "pygments_lexer": "ipython3",
   "version": "3.6.9"
  }
 },
 "nbformat": 4,
 "nbformat_minor": 4
}
