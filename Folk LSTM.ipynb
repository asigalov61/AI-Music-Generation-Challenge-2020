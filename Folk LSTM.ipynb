{
 "cells": [
  {
   "cell_type": "markdown",
   "metadata": {},
   "source": [
    "## Import required packages"
   ]
  },
  {
   "cell_type": "code",
   "execution_count": null,
   "metadata": {},
   "outputs": [],
   "source": [
    "import os\n",
    "import datetime\n",
    "\n",
    "import tensorflow as tf\n",
    "\n",
    "from data.abc import ABCPreProcessor, ABCTokenizer\n",
    "from models.symbolic.rnn import FolkLSTM"
   ]
  },
  {
   "cell_type": "markdown",
   "metadata": {},
   "source": [
    "## Required files and directories"
   ]
  },
  {
   "cell_type": "code",
   "execution_count": null,
   "metadata": {},
   "outputs": [],
   "source": [
    "# Mention the path to the datastore\n",
    "BASE_DIR = \"/home/rithomas/project/AI-Music-Generation-Challenge-2020/\"\n",
    "ABC_TFRECORD_DIR = os.path.join(\"/home/rithomas/cache\", \"ABC\", \"6-8-Meter/\")\n",
    "PROCESSED_ABC_FILENAME = 'processed-abc-files'\n",
    "\n",
    "#BASE_DIR = \"/home/richhiey/Desktop/workspace/projects/AI_Music_Challenge_2020/AI-Music-Generation-Challenge-2020\"\n",
    "#ABC_TFRECORD_DIR = os.path.join(\"/home/richhiey/Desktop/workspace/projects/AI_Music_Challenge_2020\", \"tfrecords\", \"abc\")\n",
    "#PROCESSED_ABC_FILENAME = 'processed-abc-files'"
   ]
  },
  {
   "cell_type": "markdown",
   "metadata": {},
   "source": [
    "## Load preprocessed dataset"
   ]
  },
  {
   "cell_type": "code",
   "execution_count": null,
   "metadata": {
    "scrolled": true
   },
   "outputs": [],
   "source": [
    "preprocessor = ABCPreProcessor(ABC_TFRECORD_DIR, PROCESSED_ABC_FILENAME)\n",
    "preprocessed_dataset = preprocessor.load_tfrecord_dataset()\n",
    "print(preprocessed_dataset)"
   ]
  },
  {
   "cell_type": "markdown",
   "metadata": {},
   "source": [
    "# Folk-LSTM"
   ]
  },
  {
   "cell_type": "code",
   "execution_count": null,
   "metadata": {
    "scrolled": true
   },
   "outputs": [],
   "source": [
    "batch_size = 128\n",
    "initial_learning_rate = 0.001\n",
    "training = True\n",
    "FOLK_LSTM_DIR = os.path.join(BASE_DIR, 'configs', 'lstm_6_8_meter')\n",
    "\n",
    "data_dims = preprocessor.get_data_dimensions(ABC_TFRECORD_DIR)\n",
    "data_dims['batch_size'] = batch_size\n",
    "dataset = preprocessor.prepare_dataset(preprocessed_dataset, batch_size)\n",
    "print(data_dims)\n",
    "\n",
    "model = FolkLSTM(FOLK_LSTM_DIR, data_dims, ABC_TFRECORD_DIR, training, initial_learning_rate)\n",
    "print(model.get_configs())\n",
    "model.train(dataset)"
   ]
  },
  {
   "cell_type": "markdown",
   "metadata": {},
   "source": [
    "# Generate 10000 double jigs!"
   ]
  },
  {
   "cell_type": "code",
   "execution_count": null,
   "metadata": {},
   "outputs": [],
   "source": [
    "from datetime import datetime\n",
    "start = datetime.now()\n",
    "\n",
    "n = 5\n",
    "#n = 10000\n",
    "start_tokens = ['<s>', 'M:6/8']\n",
    "temperature = 1\n",
    "model = FolkLSTM(FOLK_LSTM_DIR, data_dims, ABC_TFRECORD_DIR, False)\n",
    "\n",
    "abc_file = open(os.path.join(ABC_TFRECORD_DIR, \"10000_double_jigs.abc\"), 'w', buffering=20*(1024**2))\n",
    "\n",
    "for i in range(n):\n",
    "    print('-----------------------------------------------------')\n",
    "    tune = model.complete_tune(start_tokens, temperature)\n",
    "    formatted_tune = 'X:' + str(i+1) + '\\n' + tune[1] + '\\n' + tune[2] + '\\n' + 'L:1/8' + '\\n' + ''.join(tune[3:len(tune)-1])\n",
    "    print(formatted_tune)\n",
    "    abc_file.write(formatted_tune + '\\n\\n')\n",
    "\n",
    "abc_file.close()"
   ]
  }
 ],
 "metadata": {
  "kernelspec": {
   "display_name": "Python 3",
   "language": "python",
   "name": "python3"
  },
  "language_info": {
   "codemirror_mode": {
    "name": "ipython",
    "version": 3
   },
   "file_extension": ".py",
   "mimetype": "text/x-python",
   "name": "python",
   "nbconvert_exporter": "python",
   "pygments_lexer": "ipython3",
   "version": "3.6.9"
  }
 },
 "nbformat": 4,
 "nbformat_minor": 4
}
