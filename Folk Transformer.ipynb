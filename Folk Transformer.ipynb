{
 "cells": [
  {
   "cell_type": "markdown",
   "metadata": {},
   "source": [
    "## Import required libraries and helpers"
   ]
  },
  {
   "cell_type": "code",
   "execution_count": null,
   "metadata": {},
   "outputs": [],
   "source": [
    "import os\n",
    "import tensorflow as tf\n",
    "from models.symbolic.transformer import FolkTransformer\n",
    "from data.abc import ABCPreProcessor"
   ]
  },
  {
   "cell_type": "markdown",
   "metadata": {},
   "source": [
    "## Required files and directories "
   ]
  },
  {
   "cell_type": "code",
   "execution_count": null,
   "metadata": {},
   "outputs": [],
   "source": [
    "# Mention the path to the datastore\n",
    "#BASE_DIR = \"/home/rithomas/project/AI-Music-Generation-Challenge-2020/\"\n",
    "#ABC_TFRECORD_DIR = os.path.join(\"/home/rithomas/cache\", \"ABC\", \"TheSessionData/\")\n",
    "#PROCESSED_ABC_FILENAME = 'processed-abc-files'\n",
    "\n",
    "BASE_DIR = \"/home/richhiey/Desktop/workspace/projects/AI_Music_Challenge_2020/AI-Music-Generation-Challenge-2020\"\n",
    "ABC_TFRECORD_DIR = os.path.join(\"/home/richhiey/Desktop/workspace/projects/AI_Music_Challenge_2020\", \"tfrecords\", \"abc\")\n",
    "PROCESSED_ABC_FILENAME = 'processed-abc-files'"
   ]
  },
  {
   "cell_type": "markdown",
   "metadata": {},
   "source": [
    "# Load preprocessed ABC Tunes Dataset"
   ]
  },
  {
   "cell_type": "code",
   "execution_count": null,
   "metadata": {},
   "outputs": [],
   "source": [
    "preprocessor = ABCPreProcessor(ABC_TFRECORD_DIR, PROCESSED_ABC_FILENAME)\n",
    "preprocessed_dataset = preprocessor.load_tfrecord_dataset()\n",
    "print(preprocessed_dataset)"
   ]
  },
  {
   "cell_type": "markdown",
   "metadata": {},
   "source": [
    "# Train Folk Transformer"
   ]
  },
  {
   "cell_type": "code",
   "execution_count": null,
   "metadata": {
    "scrolled": true
   },
   "outputs": [],
   "source": [
    "batch_size = 32\n",
    "FOLK_TRANSFORMER_DIR = os.path.join(BASE_DIR, 'configs', 'transformer')\n",
    "\n",
    "dataset = preprocessor.prepare_dataset(preprocessed_dataset, batch_size)\n",
    "data_dims = preprocessor.get_data_dimensions(ABC_TFRECORD_DIR)\n",
    "model = FolkTransformer(FOLK_TRANSFORMER_DIR, data_dims, ABC_TFRECORD_DIR)\n",
    "\n",
    "print(data_dims)\n",
    "print(model.get_configs())\n",
    "\n",
    "model.train(dataset)"
   ]
  },
  {
   "cell_type": "markdown",
   "metadata": {},
   "source": [
    "# Generate 10000 double jigs!"
   ]
  },
  {
   "cell_type": "code",
   "execution_count": null,
   "metadata": {},
   "outputs": [],
   "source": [
    "model.generate_10000_double_jigs()"
   ]
  }
 ],
 "metadata": {
  "kernelspec": {
   "display_name": "Python 3",
   "language": "python",
   "name": "python3"
  },
  "language_info": {
   "codemirror_mode": {
    "name": "ipython",
    "version": 3
   },
   "file_extension": ".py",
   "mimetype": "text/x-python",
   "name": "python",
   "nbconvert_exporter": "python",
   "pygments_lexer": "ipython3",
   "version": "3.6.9"
  }
 },
 "nbformat": 4,
 "nbformat_minor": 4
}
