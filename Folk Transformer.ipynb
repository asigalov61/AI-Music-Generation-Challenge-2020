{
 "cells": [
  {
   "cell_type": "markdown",
   "metadata": {},
   "source": [
    "## Import required libraries and helpers"
   ]
  },
  {
   "cell_type": "code",
   "execution_count": 1,
   "metadata": {},
   "outputs": [],
   "source": [
    "import os\n",
    "import tensorflow as tf\n",
    "from models.symbolic.transformer import FolkTransformer\n",
    "from data.abc import ABCPreProcessor"
   ]
  },
  {
   "cell_type": "markdown",
   "metadata": {},
   "source": [
    "## Required files and directories "
   ]
  },
  {
   "cell_type": "code",
   "execution_count": 2,
   "metadata": {},
   "outputs": [],
   "source": [
    "# Mention the path to the datastore\n",
    "BASE_DIR = \"/home/rithomas/project/AI-Music-Generation-Challenge-2020/\"\n",
    "ABC_DATA_DIR = os.path.join(\"/home/rithomas/data\", \"ABC\")\n",
    "ABC_TFRECORD_DIR = os.path.join(\"/home/rithomas/cache\", \"ABC\", \"Double-Jigs/\")\n",
    "PROCESSED_ABC_FILENAME = 'processed-abc-files'"
   ]
  },
  {
   "cell_type": "markdown",
   "metadata": {},
   "source": [
    "# Load preprocessed ABC Tunes Dataset"
   ]
  },
  {
   "cell_type": "code",
   "execution_count": 3,
   "metadata": {},
   "outputs": [
    {
     "name": "stdout",
     "output_type": "stream",
     "text": [
      "<MapDataset shapes: ({tune_length: ()}, {input: (None, None), output: (None, None)}), types: ({tune_length: tf.int64}, {input: tf.int64, output: tf.int64})>\n",
      "<MapDataset shapes: ({tune_length: ()}, {input: (None, None), output: (None, None)}), types: ({tune_length: tf.int64}, {input: tf.int64, output: tf.int64})>\n"
     ]
    }
   ],
   "source": [
    "preprocessor = ABCPreProcessor(ABC_TFRECORD_DIR, PROCESSED_ABC_FILENAME)\n",
    "preprocessed_dataset = preprocessor.load_tfrecord_dataset()\n",
    "print(preprocessed_dataset)"
   ]
  },
  {
   "cell_type": "markdown",
   "metadata": {},
   "source": [
    "# Train Folk Transformer"
   ]
  },
  {
   "cell_type": "code",
   "execution_count": null,
   "metadata": {
    "scrolled": true
   },
   "outputs": [
    {
     "name": "stdout",
     "output_type": "stream",
     "text": [
      "/home/rithomas/project/AI-Music-Generation-Challenge-2020/configs/small_transformer/transformer.json\n",
      "{'num_layers': '6', 'd_model': '256', 'num_heads': '1', 'dff': '128', 'pe_target': '512', 'rate': '0.1'}\n",
      "{'max_timesteps': 511, 'tune_vocab_size': 168}\n",
      "{'num_layers': '6', 'd_model': '256', 'num_heads': '1', 'dff': '128', 'pe_target': '512', 'rate': '0.1'}\n",
      "Initializing from scratch.\n",
      "tf.Tensor(5.0138226, shape=(), dtype=float32)\n",
      "---------- Generated Output -----------\n",
      "_a^C,^C,=Eg'^C,^C,^C,^C,^C,^C,^C,^C,^C,^C,K:F^C,K:F^C,^C,K:FK:F^C,K:FK:F^C,^C,^C,^C,^C,K:F^C,K:F^C,^C,K:F^C,K:FK:F^C,K:FK:F^C,^C,K:FK:FK:F^C,^C,^C,K:FK:FK:F^C,K:FK:FK:F^C,K:FK:FK:FK:FK:FK:F^C,^C,^D^C,^C,K:F^C,^C,K:FK:F^C,^C,^C,^C,K:F^C,K:FK:F^C,K:F^C,^C,K:FK:DmixK:F^C,^C,^C,^C,K:F^C,K:F^C,K:F^C,K:FK:FK:F^C,K:FK:Dmix^C,K:FK:F^C,K:FK:F^C,^C,^C,=dK:DmixK:FK:FK:Dmixg^C,^C,^C,K:FK:FK:FagK:FK:FK:FK:F^C,^C,K:F^C,^C,^C,K:FK:FK:DmixK:FK:FK:FK:FK:FK:FK:FK:FK:FK:FK:F=dK:Ador^C,K:FK:F^C,K:FK:DmixK:AdorK:F^C,^C,K:FK:DmixaK:FK:FK:FK:FK:FK:FK:FK:FK:FK:F=d^C,K:GdorK:FK:F^C,K:FK:FK:FK:FK:GdorK:FK:F^C,K:FK:FK:FK:DmixK:FK:GdorK:FK:FK:FK:F^C,K:FK:FK:FK:FK:FK:Fa^C,K:F^C,K:FK:FK:FaK:FK:Fd'K:FK:FK:Ador=dK:F=dK:F^C,K:Dmix^C,K:FK:FK:DmixK:FK:GdorK:FK:F=dK:FK:FK:F^C,K:FK:FK:FK:FK:FK:FK:FK:F^C,K:F^C,K:FK:FK:F^C,K:FK:FK:FK:FK:AdorK:FK:FK:F^C,K:FK:FK:AdorK:F^C,K:FK:FK:FK:FK:F^C,d'K:FK:F^C,^C,K:FK:FK:Fd'K:FK:FK:FK:FK:FK:F^C,d'K:FK:FK:Fg'K:FK:FK:FK:FK:GdorK:F^C,K:F^C,K:FK:FK:FK:FK:FK:FK:FK:FK:FK:FK:F_b'^fK:FK:FK:FK:FK:FK:GdorK:FK:FK:FK:FK:FK:F^C,K:FK:F^C,K:Gdor^C,K:FK:GdorK:FK:FK:FK:FK:FK:FK:FK:FK:FK:FK:FK:F^C,K:GdorK:FK:F^C,K:AdorK:FK:FK:FK:FK:FK:Fg'_b'K:FK:F^C,K:FK:FK:GdorK:FK:GdorK:Gdor^C,K:FK:FK:DmixK:FK:FK:FK:FK:FK:F^C,K:Fa^C,K:FK:FK:FK:FK:FK:F^C,K:GdorK:FK:FK:FK:FK:FK:FK:FK:FK:FK:AdorK:FK:FK:Fd'K:F^C,K:FK:FK:GdorK:FK:FK:FK:FK:FK:F^C,K:F^C,K:FK:FK:FK:FK:FK:FK:AdorK:FK:FK:FK:FK:GdorK:FK:FK:FK:FK:FK:FK:FK:FK:FK:FK:FK:FK:GdorK:FK:FaK:FK:FK:FaK:GdorK:F^C,K:FK:FK:FK:FK:GdorK:GdorK:FK:FK:FK:FK:FK:FK:FK:FK:FK:FK:FK:FK:FK:FK:Gdor=dK:FK:FK:FK:FK:F^C,K:FaK:FK:FK:FK:FK:FK:F^C,K:FK:FK:F^C,K:GdorK:FK:FK:FK:GdorK:FK:FK:FK:F^C,K:F_a^C,^C,K:F^C,K:Fd'^C,K:F^C,^C,^DK:FK:FK:FK:FK:FK:F^C,^C,d'_aK:FK:F^C,^C,K:FK:F^C,K:FK:FK:FK:FK:FK:F^C,^C,^C,g'K:FK:FK:FK:FK:GdorK:F^C,K:FK:FK:FK:FK:FK:FK:F^C,K:F_aK:FK:FK:F^C,K:FK:F^C,K:FgK:FK:Fg'K:F_aK:F^C,K:FK:F^C,K:FK:FgK:F^C,^C,K:F^C,^C,K:GdorK:F^C,K:F^C,_b'K:FK:Gm^C,K:F^C,^C,K:FK:F^C,K:Fg^C,d'K:Fg'K:FK:FK:Fg'^DK:FK:FK:FK:F^C,K:FK:FK:F^C,K:FK:FK:GdorK:FK:FK:FK:FK:FK:F^C,K:FK:FK:FK:FK:GdorK:FK:F^C,K:Fg'^C,K:F=g'K:FK:GdorK:F=d^C,K:FK:FK:AdorK:F^C,K:FK:FK:FK:FK:FK:FK:FK:FK:FK:FK:FK:F^C,K:FK:FK:FK:FK:F^C,_b'K:FK:FK:FK:FK:FK:GdorK:FK:FK:FK:FK:FK:FK:FK:FK:GdorK:FK:F^C,K:FK:FaK:GdorK:FK:FK:Gdor^C,K:FK:F=EK:FK:FK:AdorK:FgK:FK:F_aK:FK:FK:FK:FK:FK:FK:FK:FK:FK:FK:GdorK:FK:FK:F^C,=dK:FK:GdorK:FK:FK:FK:Fd'K:FK:GdorK:FK:GdorgK:FK:FK:GdorK:FK:FK:AdorK:Fg'K:GdorK:FK:FK:F=d=g'K:FK:FK:Gdor^C,K:FK:FK:FK:FK:FK:F^C,K:FK:F^C,K:FK:Fg'K:FK:FK:FK:FK:FK:FK:FK:FK:FK:FK:GdorgK:FK:FK:FK:Gdorg'^C,^C,K:F^C,K:FK:FK:FK:FK:FK:Fd'K:FK:FK:GdorK:GdorK:FK:FK:FK:FgK:FK:F^C,K:FK:FK:FK:GdorK:FK:GdorgK:FK:FK:FK:GdorK:GdoraK:FK:FK:Gdor^C,K:FK:Gdor^C,K:FK:FK:FK:GdorK:FK:FK:FgK:FK:FK:FK:GdorK:GdorK:FK:FK:FK:FK:FK:GdorK:GdorK:FK:GdorK:FK:FK:FK:FK:FK:GdorK:FK:FK:FK:FK:FK:GdorK:FK:FK:GdorK:FK:FK:FK:GdorK:FK:GdorK:FK:FK:FK:FK:FK:FK:F=EK:F^C,g'K:GdorK:FK:FK:GdorK:FK:FK:FK:GdorK:F^C,K:FK:FK:GdorK:GdorK:GdorK:FK:FK:FK:FK:FK:GdorK:FK:FK:FK:FK:FK:FK:GdoraK:FK:FK:GdorK:FK:FK:FK:FK:GdorK:GdorK:FK:FK:FK:FK:F^C,K:GdorK:F^C,K:GdoraK:FK:FK:FK:FK:FK:FK:FK:FK:FK:FK:FK:FK:FK:FK:GdorK:GdorK:FK:GdorK:FK:GdorK:FK:FK:FK:FK:FK:FK:FK:FK:FK:FK:FK:FK:FK:GdorK:GdorK:FK:GdorK:FK:FK:FK:GdorK:FK:FK:FK:GdorK:FK:FK:Fg'K:FK:FK:F=EK:GdorK:FK:GdorK:FK:F^C,^C,g'K:FK:F^C,K:FK:FK:F^C,^C,K:FK:FK:FK:FK:FK:FK:FK:FK:FK:FK:F^C,^C,_aK:F^C,K:F^C,^C,^C,^C,^C,g^C,^C,K:F_a^C,K:FK:F^C,K:FK:F^C,_a^C,K:F^C,^C,^C,_b'^C,K:FK:FK:FK:F_b'K:FK:FK:F^C,K:FK:FK:FK:FK:FK:FK:F^C,K:FK:FK:F=d^C,^C,K:FK:FK:FK:FK:F^C,K:FK:FK:F^C,^C,^C,K:Dmix^C,K:FK:F^C,K:FK:FK:FK:F^C,^C,^C,K:FK:Fg'K:FK:F_aK:FK:FK:FK:F^C,K:Gdor^C,g'K:FK:FK:F^C,K:F^C,K:FK:Dmix^C,K:FK:F^C,K:FK:F^C,K:Fd'K:F=dK:F^C,K:FK:FK:FK:DmixK:FK:FK:FK:FK:FK:FK:Fg'K:FK:F^C,K:FK:FK:FK:FK:FK:FK:FK:FK:FK:FK:FK:FcK:FK:FK:FK:FK:FK:FK:FK:F^C,K:FK:FK:FK:FK:FK:GdorK:F^C,K:FK:FK:FK:FK:FK:FK:FK:FK:FK:FK:FK:FK:FK:FK:FK:FK:FK:FK:FK:FK:FK:FK:FK:FK:F^C,K:F^C,K:FK:FK:F^C,K:FK:FK:FK:FK:FK:FK:FK:FK:FK:F^C,g'K:FK:F^C,K:FK:FK:FK:FK:FK:FK:FK:FK:F^C,K:FK:FK:FK:FK:FK:F^C,K:FK:FK:FK:FK:FK:F^C,K:FK:FK:FK:FK:FK:F^C,K:FK:FK:FK:FK:FK:F^C,K:FK:FK:F=g'K:FK:FK:FK:FK:FK:FK:FK:GdorK:FK:Fg'K:FK:FK:FK:FK:FK:FK:FK:FK:FK:FK:F=dK:GdorK:FK:FK:FK:FK:FK:FK:FK:FK:Fd'K:FK:FK:FK:FK:FK:Fg'K:FK:FK:FK:FK:FK:FK:FK:FK:FK:FK:FK:FK:FK:FK:FK:FK:FK:FK:F^C,K:FK:FK:FK:FK:FK:FK:FK:F^C,K:FK:FK:FK:FK:FK:FK:FK:FK:GdorK:FK:FK:FK:FK:FK:FK:FK:FK:FK:FK:FK:FK:FK:FK:FK:FK:F^C,K:FK:FK:FK:FK:FK:FK:FK:FgK:FK:FK:FK:FK:FK:FK:FK:FK:FK:FK:FK:FK:FK:FK:FK:FK:FK:FK:FK:FK:AdorK:FK:FK:FK:FK:Gdor^C,K:FK:FK:FK:FK:FK:FK:F_aK:FK:F^C,K:F^C,K:FK:FK:FK:FK:FK:FK:FK:FK:FK:FK:FK:GdorK:F_aK:FK:Fd'K:FK:FK:FK:GdorK:FK:FK:FK:FK:FK:FK:FK:FK:FK:GdorK:FK:FK:FK:F^C,K:FK:FK:FK:FK:FK:FK:FK:FK:FK:FK:FK:FK:F^C,K:FK:FK:FK:FK:FK:FK:FK:FK:FK:F^C,K:FK:FK:FK:FK:FK:FK:FK:GdorK:GdorK:GdorK:FK:FaK:GdorK:FK:FK:FK:FK:FK:FK:F_aK:FK:F^C,K:GdorK:F^C,K:FK:FK:FK:FK:FK:FK:FK:FK:FK:FK:FK:FK:GdorK:FK:FK:FK:FK:FK:FK:FK:FK:GdorK:FK:FK:FK:FK:FK:FK:F(5K:FK:F_aK:FK:F_a'K:F^C,K:FK:F^C,K:F^C,^C,K:F^C,K:FK:FK:FK:F_aK:FK:F^C,^C,K:FK:FK:F^C,K:FK:FK:GdorK:FK:FK:FK:FK:F^C,^C,K:FK:FK:FK:FK:F^C,^C,K:FK:FK:FK:FK:FK:F^C,K:FK:FK:FK:FK:FK:F^C,K:FK:FK:Gm^C,K:F^C,K:F^C,K:F^fK:GdorK:FK:FK:FK:F^C,K:F^C,K:GmK:FK:FK:FK:FK:FK:FK:FK:FK:F^C,K:FK:FK:FK:F^C,K:FK:FK:F^C,K:FK:FK:GdorK:F^C,=AK:FK:FK:FK:F_a^C,K:FK:F^C,K:F=EK:FK:F^C,^C,K:F=EK:FK:GdorK:F^C,K:FK:FK:FK:FK:FK:F^C,gK:F^C,K:FK:FK:FK:FK:FK:FK:FK:FK:F^C,K:F^C,K:F^C,K:FK:FK:FK:FK:F^C,K:F=dK:FK:FK:FK:FK:FK:FK:FK:FK:FK:F^C,K:FK:F^C,K:FK:FK:FK:FK:FK:FK:FK:Fd'K:FK:FK:FK:FK:FK:FK:FK:F=EK:DmixK:F=d^C,K:FK:F^C,g'K:FK:FK:F^C,^C,K:F_aK:FK:F^C,K:Gdor_aK:FK:FK:FgK:F=EK:FK:FaK:FK:FK:FK:FK:F_aK:FK:FK:FK:FK:Fg'K:FK:F^C,=dK:GdorK:FK:FK:FK:F^C,^C,K:FK:FK:FK:FK:FK:Fg^C,gK:FK:F=EK:FK:FK:FK:F^C,K:FK:FK:FK:FK:F=EK:FK:FK:F^C,K:FK:FK:FK:FK:F^C,K:F^C,K:FK:F^fK:FK:F^C,K:FK:FK:FK:FK:FK:FK:F^C,K:F^C,K:F^C,K:FK:FK:FK:F=EK:F^C,K:FK:FK:FK:Fg'K:FK:FK:FK:FK:F^C,K:F^fK:FK:FaK:FK:F^C,K:FaK:FK:F^C,K:GdorK:FK:FK:FK:FK:FK:FK:FK:FK:FK:FK:F^C,K:FK:FK:FK:FK:FK:FK:FK:FK:FK:DmixK:FK:FK:FK:FK:FK:GdorK:FK:FK:FK:FK:F=Eg'K:F^C,=dK:FK:FK:FK:FK:Gdor^C,_b'K:FK:FK:FK:FK:FK:FK:FK:F=EK:FK:FK:F^C,K:FK:FK:FK:FK:GdorK:FK:FK:FK:FK:FK:GdorK:F~K:FK:FK:FK:FK:FK:FK:DmixK:FK:FK:FK:GdorK:F=EK:F=dK:F^C,K:FK:F^C,K:F^fK:FK:FK:DmixK:FK:FK:FK:FK:FK:FK:FK:F^C,g'K:FK:FK:FK:FK:FK:DmixK:FK:FK:FK:F_a^C,K:FK:FK:FK:FK:FK:FK:FK:FK:FK:FK:FK:FK:FK:FK:FK:FaK:FK:FK:FK:FK:FK:F_aK:FK:FK:FK:FK:FK:F=EK:FK:FK:Fg'K:FK:FK:FK:F_aK:FK:FK:FK:FK:FK:FK:FK:FK:FK:FaK:FK:FK:FK:GdoraK:FK:FK:F=EK:FK:FK:FK:FK:FK:FK:FK:F^C,K:FK:GmK:Dmix^C,^C,^C,^C,^C,^C,K:Dmix^C,K:F^C,K:FK:F^C,K:FK:F^C,^C,^C,K:FK:F^C,^C,K:F^C,K:FK:FK:F^C,K:F^C,^C,^C,K:F^C,^C,K:FK:F^C,^C,^C,K:FK:FK:F^C,K:FK:F^C,K:FK:FK:F^C,^C,K:FK:FK:FK:FK:FK:F^C,K:DmixK:FK:FK:Edor^C,K:FK:Fd'K:F^C,^C,K:F^C,K:FK:GdorK:Ador^C,K:FK:FK:DmixK:FK:FK:F^C,^C,K:FK:FK:GdorK:F^C,=d^C,d'^C,K:FK:FK:FK:FK:F^C,^C,^C,K:F^C,K:FK:GdorK:F^C,^C,K:FK:FK:F^C,K:FK:F=EK:FK:Gdor^C,K:FK:FK:FK:GdorK:F^C,K:FK:FK:GdorK:FK:FK:F^C,K:FK:F^C,K:F^C,K:F=dK:F^C,K:F^C,K:FK:F=dK:FK:Dmix^C,^C,^C,K:FK:FK:F^C,^C,^C,K:FK:FK:FK:FK:FK:FK:GdorK:FK:FK:FK:F^C,K:AdorK:Fd'K:AdorK:FK:F^C,K:FK:FK:FK:FK:FK:FK:FK:FK:F^C,K:DmixK:FK:FK:FK:FK:GdorK:FK:FK:FK:F^C,K:FK:FK:FK:FK:AdorK:GdorK:FK:FK:FK:Dmixg'K:FK:F^C,K:DmixK:DmixK:FK:FK:FK:FK:GdorK:F^C,K:FK:F^C,K:FK:FK:FK:GdorK:FK:FK:F^C,K:GdorK:FK:FK:F^C,K:GdorK:FK:F_b'K:Fd'K:F^C,K:FK:F=EK:F^C,=EK:FK:FK:FK:FK:FK:FK:F^C,K:FK:FK:FgK:FK:FK:Fg'K:F^C,K:FK:FK:FK:FK:Gdor=EK:FK:FK:FK:AdorK:F^C,^C,K:FK:FK:DmixK:AdorK:FK:DmixK:FK:GdorK:FK:FK:FK:FK:FK:FK:FK:AdorK:Dmix^C,K:DmixK:F_aK:FK:GdorK:FK:FK:FK:FK:GdorK:FK:GdorK:FK:FK:GdorK:GdorK:GdorK:FK:AdorK:FK:FK:FK:FK:FK:FK:FK:F=EK:FK:GdorK:FK:AdorK:FK:GmK:FK:FK:FK:FK:FK:FK:FK:FK:FK:F^C,K:FK:DmixK:FK:FK:FK:FK:FK:FK:GdorK:GdorK:FK:GdorK:F^C,K:FK:F^C,K:FK:Gdor_aK:GdorK:GdorK:FK:FK:FK:FK:FK:FK:FK:FK:FK:FK:FK:FK:FK:FK:FK:GdorK:FK:F=dK:GdorK:FK:GdorK:F^C,=EK:FK:FK:F^C,K:FK:FK:FK:FK:FK:FK:FK:FK:FK:FK:GdorK:FK:GdorK:GdorK:FK:DmixK:FK:FK:FK:FK:DmixK:FK:FK:FK:GdorK:FK:FK:FK:FK:FK:FaK:FK:AdorK:DmixK:FK:FK:FK:FK:FK:FK:FK:FK:FK:FK:FK:FK:AdorK:FK:FK:FK:F^C,=EK:FK:GdorK:FK:F=dK:FK:FK:GdorK:FK:FK:FK:GdorK:FK:AdorK:FK:FK:FK:FK:FK:FK:FK:FK:FK:FK:FK:AdorK:FK:FK:FK:FK:FK:FK:FK:FK:FK:FK:FK:FK:FK:FK:FK:FK:FK:FK:FK:F^C,K:FK:Gdor^C,K:FK:AdorK:F^C,K:Gdor=EK:F^Dd'^C,K:FK:FK:F^C,K:Edor^C,K:F^C,^C,K:F^C,^C,^C,^C,K:FK:F^C,K:Edor^C,^C,^C,^C,^C,^C,^C,K:FK:F^C,^C,^C,^C,^C,K:F^C,^C,^C,^C,^C,^C,K:FK:F^C,^C,^C,^C,^C,K:F^C,^C,^C,K:FK:F^C,^C,^C,K:FK:F^C,K:FK:F^C,K:Gdor^C,^C,^C,K:F^C,K:FK:FK:F^C,K:F^C,^C,^C,K:F^C,^C,K:F^C,^C,^C,_ad'K:F^C,K:F^C,K:F^C,K:F^C,K:F^C,^C,^C,K:F^C,^C,^C,K:F^C,^C,K:F^C,^C,^C,K:AmixK:F^C,^C,K:F^C,^C,K:F^C,K:FK:F^C,K:F^C,^C,^C,d'K:FK:FK:F^C,^C,^C,K:F(9^C,^C,K:F^C,K:Gdor^C,K:Gdor=E^C,^C,K:F^C,K:FK:FK:F^C,K:F^C,^C,K:FK:FK:FK:Dmix^C,^C,K:Gdor^C,^C,^C,K:F^C,K:GdorK:FK:FK:F^C,K:F^C,^C,K:F^C,K:FK:F^C,K:F^C,K:FK:FK:FK:F^C,^C,K:FK:F^C,^C,K:F^C,^C,K:Gdor=d^C,g'^C,_a=dK:FK:Fd'K:FK:FK:F^C,K:Gdor=d^C,^C,K:F^C,K:FK:FK:F^C,^C,K:F^C,K:GdorK:FK:FK:GdorK:F^C,K:GdorK:GdorK:F^C,^C,K:FK:FK:F^C,^C,K:FK:FK:GdorK:DmixK:GdorK:GdorK:F^C,K:FK:FK:FK:FK:FK:GdorK:FK:FK:Gdor^C,^C,^C,K:FK:FK:F^C,K:EdorK:AdorK:FK:FK:FK:F^C,K:FK:FK:FK:FK:Gdor^C,K:FK:GdorK:GdorK:F^C,K:FK:FK:Gdor^C,K:GdorK:FK:F^C,^C,K:FK:F^C,K:FK:FK:F_aK:FK:FK:FK:FK:F^C,^C,^C,^C,K:F^C,^C,^C,^C,K:GdorK:F^C,K:FK:FK:F^C,K:Gdor^C,^C,K:FK:FK:F_aK:FK:FK:FK:FK:FK:FK:FK:FK:FK:DmixK:FK:F^C,K:FK:FK:FK:GdorgK:Ador^C,K:FK:FK:FK:Gdorg'aK:FK:FK:FK:FK:FK:FK:FK:FK:FK:FK:FK:F^C,^C,K:Fd'K:FK:FK:GdorK:F^C,K:FK:GdorK:FK:FK:GdorK:FK:FK:GdorK:F^C,K:FK:FK:FK:Gdor^C,K:GdorK:FK:FK:FK:FK:F^C,K:FK:FK:FK:FK:F^C,^C,K:F^C,K:FK:FK:GdorK:FK:FK:GdorK:FK:F^C,K:Dmix^C,K:AdorK:FK:FK:FK:FK:FK:FK:FK:F^C,K:FK:GdorK:GdorK:FK:FK:F^C,K:FK:FK:Fd'K:FK:FK:FK:FK:GdorK:GdoraK:AdorK:FK:FK:FK:FK:GdorK:GdorK:GdorK:FK:FK:F^C,K:FK:FK:FK:FK:FK:FK:FK:FK:FK:F^C,K:GdorK:FK:FK:GdorK:GdorK:F^C,K:FK:FK:FK:FK:FK:FK:FK:GdorK:FK:GdorK:F^C,K:F^C,^DK:FK:FK:F^C,^C,K:F^C,K:FK:GdorK:FK:FK:FaK:FK:GdorK:GdorK:FK:FK:FK:GdorK:FK:FK:FK:FK:FK:GdorK:F^C,^C,^C,^C,^C,^C,^C,^C,^C,^C,^C,K:F^C,K:F^C,K:FK:FK:FK:FK:FK:F^C,_a^C,^C,K:F^C,K:FK:FK:FK:F^C,^C,^C,K:FK:FK:FK:F^C,K:F^C,K:FK:F^C,K:F^C,K:F^C,^C,K:Gdor^C,^C,d'^C,K:F^C,^C,K:F^C,K:FK:F^C,K:FK:F^C,K:FcK:F^C,K:FK:FK:GdorK:FK:FK:FK:F=g'^C,^C,g'K:F_a^C,K:F^C,K:F^C,^C,^C,K:FK:F^C,K:F^C,^C,=dg^C,^C,K:F=d=d^C,^C,K:F^C,^C,^C,g^C,K:FK:F=dK:FK:Ador^C,^C,^C,K:Fg'K:F^cK:FK:FK:FK:FK:FK:FK:F^C,K:FK:FK:FK:FK:FgK:F^C,K:F^C,K:FK:FK:GdorK:FgK:FK:FK:FK:FK:FK:FK:Fd'K:FK:FK:FK:Fd'K:FK:GdorK:DmixK:F^C,^C,K:Fd'g'K:FK:FK:AdorK:FK:FK:F^C,K:Dmixg'K:FK:FK:FK:FK:FK:FK:FK:FK:FK:F^C,K:FK:FK:FK:Gdor^C,K:FK:GdorK:FK:FK:FK:Fd'K:AdorK:FK:FK:Fg'K:FK:F^C,g'K:F^C,K:FK:FK:FK:FK:FK:FK:GdorK:GdorK:F^C,K:FK:F^C,K:FK:FK:FK:FK:AdorK:F=AK:FK:FK:FK:GdorK:FK:DmixK:GdorK:FK:GdorK:FK:GdorK:GdorK:FK:FK:FgK:FK:FK:FK:GdorK:FK:GdorK:F=dK:FK:GdorK:FK:FK:F^C,d'K:FK:FK:FK:FK:FK:FK:DmixK:FK:F=dK:FK:FK:AdorK:GdorK:DmixK:FK:Fd'K:FK:DmixK:FK:FK:FK:FK:F^C,K:FK:FK:FK:F^C,K:FK:FK:FK:FK:FK:FK:FK:FK:F^C,K:GdorK:GdorK:GdorK:FK:FK:FK:FK:FK:FK:FK:FK:FK:FK:FK:AdorK:GdorK:FK:FK:F^C,K:FK:FK:FK:GdorK:FK:FK:FK:GdorK:FK:GdorK:F_b'K:F^C,K:FK:FK:FK:GdorK:F^C,K:GdorK:FK:F^C,^C,K:FK:DmixK:F_b'K:F_b'=dK:FK:FK:F^C,K:F^cK:FK:FK:FK:FK:GdorK:FK:FK:FK:F_aK:FK:FK:F^C,K:FK:FK:FK:FK:FK:FK:FK:FK:F=g'K:FK:FK:GdorK:FK:F=g'd'K:FK:FK:FK:FK:Fd'K:FK:FK:FK:FK:FK:FK:FK:FK:FK:FK:FK:FK:FgK:FK:Fg'K:FK:FK:FK:FK:GdorK:FK:Fg'K:FK:FK:FK:FK:F^C,K:FK:FK:FK:FK:FK:FK:FK:FK:FK:FK:FK:F^C,K:FK:FK:FK:FK:FK:FK:FK:F=AK:FK:Gdorg'K:FK:GdorK:FK:FK:FK:FK:FK:GdorK:FK:FK:FK:FK:GdorK:FK:GdorK:FK:FK:FK:GdorK:F^C,K:FK:FK:FK:FK:FK:FK:FK:FK:F=E^C,K:FK:FK:FK:FK:FK:GdorK:GdorK:FK:FK:FK:FK:FK:FK:FK:FK:FK:FK:AdorK:FK:GdorK:FK:FK:FK:FK:F^C,ggK:FK:FK:FK:FK:FK:F^fK:FK:FK:FK:F^D^C,^C,K:F^C,d'K:Fd'^C,K:F^C,^C,K:FK:FK:FK:F^C,K:FK:FK:F^C,K:FK:F^C,K:FK:FK:FK:FK:FK:FK:F^C,K:Fd'K:FK:FK:F^C,K:FK:FK:FK:FK:F=dd'K:FK:F^C,K:Fd'K:FK:FK:FK:FK:AdorK:F=dK:F^C,K:F^C,K:FK:FK:FK:FK:FK:F^C,=dK:FK:F^C,K:Fe'K:F^C,K:FK:FK:F^C,K:F=d^C,K:F^C,=EK:FK:FK:F^C,^C,K:F^C,^C,K:FK:AdorK:FK:FK:F^C,K:F^C,d'K:Fd'g^C,^C,K:FK:FK:FK:FK:FK:FK:FK:FK:FK:FK:FK:FK:FK:F^C,^C,K:FK:FK:FK:FK:F^C,K:F=dK:FK:FK:FK:FK:FK:F^C,d'K:FK:FK:FK:FK:FK:FK:FK:FK:FK:FK:FK:FK:F^C,K:FK:FK:F=dK:FK:F^C,K:FK:FK:F^C,^C,K:F^C,K:FK:FK:FK:FK:FK:FK:FK:FK:FK:GdorK:F^C,K:FK:Fd'K:FK:DmixK:FK:FK:FK:FK:GdorK:F^C,K:FK:FK:F^C,K:FK:FK:FK:FK:FK:FK:FK:FK:F^C,^C,K:FK:FK:FK:FK:FK:FK:FK:GdorK:FK:FK:GdorK:FK:FK:FK:FK:FK:FK:FK:AdorK:F^C,K:FK:FK:FK:FK:FK:FK:FK:FK:FK:FK:FK:FK:FK:FK:FK:FK:F^C,^C,K:FK:FK:FK:FK:FK:FK:FK:FK:FK:FK:FK:FK:FK:FK:FK:AdorK:FK:FK:FK:GdorK:FK:FK:FK:GdorK:FK:FK:GdorK:FK:FK:FK:FK:FK:FK:FK:FK:F_aK:FK:F^C,K:FK:FK:FK:FK:FK:FK:FK:FK:FK:FK:FK:FK:FK:F^C,K:FK:FK:F^C,K:FK:FK:FK:FK:FK:FK:F^C,K:FK:FK:FK:FK:FK:F^C,K:DmixK:FK:FK:FK:FK:FK:AdorK:AdorK:F^C,K:FK:FK:FK:FK:FK:FK:FK:FK:AdorK:AdorK:FK:FK:FK:FK:FK:FK:FK:FK:FK:FK:FK:F=dK:GdorK:FK:FK:FK:FK:FK:FK:FK:FK:FK:FK:FK:FK:F^C,K:FK:FK:FK:FK:FK:FK:FK:FK:FK:FK:FK:FK:FK:FK:F^C,K:AdorK:FK:F^C,K:FK:FK:FK:AdorK:FK:FK:FK:FK:FK:FK:FK:FK:F^C,K:FK:FK:FK:FK:FK:AdorK:F^C,K:FK:AdorK:FK:FK:FK:FK:FK:FK:AdorK:FK:GdorK:GdorK:FK:FK:FK:FK:FK:FK:FK:FK:FK:FK:FK:FK:FK:FK:GdorK:DmixK:FK:FK:FK:FK:FK:FK:FK:FK:FK:FK:F^C,K:FK:FK:FK:FK:FK:FK:FK:GdorK:FK:F=dK:FK:FK:FK:FK:F^C,K:FK:FK:FK:FK:FgK:FK:FK:FK:FK:FK:FaK:FK:FK:Fg'K:AdorK:FK:FK:FK:FK:FK:FK:FK:FK:FK:FK:Fg'd'^C,K:Adord'K:FK:Gdor^DK:FK:FK:F^C,K:FK:F^D^D^C,^C,K:Gdor^C,K:F=dK:FK:FK:F^C,^C,^C,^C,^C,^C,^C,^C,^C,K:F^C,K:F^C,^C,K:F^C,^C,K:F^C,K:F^C,K:FK:FK:F^C,~K:FK:F^C,^C,^C,K:DmixK:GdorK:DmixK:F^C,K:FK:FK:GdorK:FK:FK:FK:FK:F^C,K:F^C,^C,^C,=d=d^C,^C,^C,^C,^C,^C,^C,K:FK:Ador^C,K:DmixK:F^C,^fK:F^C,K:FK:FK:F^C,^C,^C,^C,^C,K:F^C,K:FK:Gdord'K:FK:FK:F^C,K:F^C,=EK:F^C,K:FK:FK:FK:FK:GdorK:FK:F^C,^C,K:FK:F^C,K:FK:FK:F^C,K:FK:FK:FK:F^C,K:F^C,K:Dmix^C,K:FK:FK:F^C,K:Dmix^C,^C,K:F^C,K:FK:FK:FK:FK:FK:FK:FK:FK:Fg'K:FK:FK:FK:FK:FK:FK:FK:FK:FcK:FK:FK:FK:FK:FK:FK:FK:FK:FK:FK:F^C,^C,K:FK:FK:FK:FK:FK:GdorK:F=d^C,K:GdorK:Gdor^C,K:FK:FK:FK:FK:GdorK:FK:F^C,K:FK:F^C,K:FK:GdorK:FK:FK:F^C,K:FK:FK:FK:AdorK:FK:FK:FK:GdorK:FK:F^C,K:FK:GdorK:FK:F^C,^C,K:F^C,K:GdorK:FK:FK:FK:FK:FK:FK:FK:F^C,K:GdorK:FK:FK:GdorK:FK:FK:FK:FK:FK:F^C,^C,K:FK:FK:FK:FK:FK:FK:F^C,K:FK:FK:F^C,K:DmixK:FK:FK:GdorK:FK:FK:F^C,K:FK:F^C,K:FK:F=d^C,K:GdorK:FK:FK:FK:FK:FK:GdorK:FK:FK:FK:FK:FK:FK:FK:FK:DmixK:FK:FK:FK:GdorK:FK:F^C,K:F=E=g'K:AdorK:FK:FK:FK:GdorK:FK:FK:FK:FK:GdorK:FK:FK:F^C,K:GdorK:F^C,K:FK:FK:FK:FK:FK:FgK:FK:F^C,K:FK:FK:FK:FK:FK:GdorK:FK:FK:FK:FK:FK:FK:FK:FK:FK:FK:FK:FK:FK:GdorK:FaK:FK:FK:GdorK:FK:GdorK:FK:AdorK:F=AK:FK:FK:FK:FK:FK:FK:GdorK:FK:FK:FK:FK:FK:FK:F^C,K:FK:FK:FK:GdorK:GdorK:FK:FK:GdorK:FK:FK:FK:FK:GdorK:FK:FK:FK:F^C,K:FK:FK:FK:FK:FK:FK:FK:GdorK:FK:FK:FK:FK:FK:FK:GdorK:GdorK:FK:FK:F^C,K:F_b'^C,K:GdorK:F~K:FK:FK:FK:FK:FK:GdorK:FK:F^C,K:FK:FK:FK:F^C,K:FK:FK:FK:GdorK:GdorK:FK:FK:F^C,K:FK:FK:FK:Ador=EK:F^C,K:FK:F^C,K:FK:FK:Gdor^C,K:GdorK:FK:FK:FK:FK:FK:GdorK:FK:FK:F^C,K:FK:GdorK:FK:FK:FK:FK:FK:FK:GdorK:FK:FK:FK:FK:FK:FaK:F^C,K:FK:FK:FK:FK:Gdor^C,K:GdorK:FK:F^C,K:FK:GdorK:FK:FK:FK:GdorK:FK:FK:F^C,K:GdorK:F^C,K:F~=EB^D/8_D,K:F_aK:FgK:DmixK:F=dK:FK:FK:FK:FK:F=d^C,K:Fg'K:FK:FK:F_ag'K:F=EK:FK:F_aK:FK:F_b'K:FK:F_b'_aK:FK:DmixK:FK:FK:FK:F=g'd'K:FK:F=dK:AdorK:F=dg'g'd'K:FK:FK:FK:Fd'K:FK:DmixK:F^C,^C,^C,K:FK:F^C,K:F_aK:Fg'=dK:FK:FK:Fg'K:FK:GdorK:FK:FK:Fg'K:F^C,K:F^fK:F=EK:Fd'K:FK:FK:FK:FK:GdorK:F_b'K:Adorg'_b'K:F^C,K:FK:FK:F^fK:F=EK:FK:F=g'^DK:FK:FK:FK:FK:FK:DmixK:FK:FK:FK:FK:FK:F^C,^fK:FK:FK:FK:FK:GdorK:FK:FK:FK:DmixK:F=EK:FK:GdorK:FK:F=EK:F_aK:F^C,K:F_aK:FK:FK:FK:F^C,K:FK:GdorK:Fd'=EK:GdorK:FK:F=d_a'K:FK:FK:FK:Dmixg'K:FK:FK:FK:F=E=E_aK:FK:F^DK:FK:FK:F=EK:F=dK:F_a_aK:FK:FK:FK:Fd'_aK:FK:FK:FK:FK:FK:DmixK:FK:FK:FK:GdorK:F_b'^C,K:FK:Gdord'K:FK:FK:FK:FK:Fg=EK:DmixK:FK:FK:FK:FK:GdorK:FK:F^C,=g'K:FK:FK:F^C,K:FK:F_aK:FK:AdorK:FK:FK:FK:FK:FK:F=EK:GdorK:FK:FK:F^C,_aK:FK:DmixK:FK:F=E^c^C,^C,^C,K:FK:F_a=g'K:FK:FK:FK:FK:F=dK:Dmix=g'K:FK:EdorK:GdorK:Fg'K:FK:FK:GdorK:FK:FK:FK:Ador=EK:FK:AdorK:F^C,K:GdorK:FK:FK:FK:FK:FK:FK:FK:Fd'K:FK:FK:FK:F^C,K:FK:F=d^C,=dK:F=E^C,d'K:FK:FK:F^C,=d=EK:F=EK:FK:FK:FK:FK:GdorK:F=dK:FK:FK:F=EK:FK:FK:FK:FK:FK:FK:F=E^C,K:DmixK:FK:Fd'_dK:F=E^C,K:FK:GdorK:FK:GdorK:FK:F_aK:FK:FK:FK:FK:F_dK:FK:Fg'K:Gdorg'K:AdorK:FK:FK:FK:FK:FK:F^C,K:F=dK:FK:FK:FK:DmixK:F^C,K:F_b'K:FK:FK:FK:FK:FK:F^C,K:FK:FK:F^cK:FK:FK:FK:FK:FK:FK:FK:FK:FK:FK:FK:F_aK:FK:FK:FgK:FK:FK:FK:FK:FK:AdorK:FK:FK:F^C,K:F_aK:FK:FK:F_b'K:FK:FK:GdorK:FK:FK:Gdor^C,^C,^C,K:FaK:FK:FK:GdorK:F^C,K:F^C,K:AdorK:FK:Fg'K:FK:FK:FK:FK:FK:AdorK:FK:FK:FK:FK:Gdor^C,K:F^C,K:FK:FK:FK:FaK:FK:FK:FK:F^C,K:FK:FK:DmixK:FK:FK:F^C,K:AdorK:FK:FK:FK:FK:FK:FK:FK:Gdor^C,_aK:FK:FK:F^C,K:FK:FK:FK:FK:FK:F^C,K:FK:GdorK:FK:FK:FK:FK:Ador=g'_a/2K:FgK:Dmix_aK:GdorK:GdorK:F^C,=g'K:FK:GdorK:FAK:DmixK:FK:FK:Ador^C,^C,K:FK:FK:F^C,K:F^C,K:Gdor_b'K:F^C,^C,^C,^C,K:FK:GdorK:Gdord'K:FK:F^C,K:FK:FK:F^C,^C,K:FK:FK:FK:F^C,K:F^C,^C,g'K:FK:F^C,K:FK:FK:FK:Fd'K:F^C,K:DmixK:F^C,g'^C,K:F_a^C,K:FK:FK:F^C,^C,K:FK:FK:FK:FK:FK:F^C,^C,K:FK:FK:F^C,^C,K:F=d^C,^C,K:GdorK:FK:FK:F=g'=d^C,^C,K:F^C,K:FK:Gdor^C,^C,=g'^C,^C,_aK:F=dK:F^C,K:FK:FK:FK:F^C,d'^C,K:FK:GdorK:FK:FK:FK:F^C,^C,K:FK:FK:F^C,K:FK:FK:GdorK:FK:FK:FK:F^C,K:FK:FK:AdorK:F_aK:Fg'K:FK:Gdord'K:FK:FK:BmK:F^C,K:FK:FK:FK:FK:F_ag'K:FK:FK:FK:FK:Adorg'K:FK:FK:FK:F^C,K:FK:Fd'K:FK:FK:AdorK:FK:FK:F_b'^C,K:FK:FK:FK:FK:FK:FK:FK:FK:FK:FK:F^cK:FK:FK:F=EK:GdorK:FK:FK:F^C,K:F^C,K:FK:GdorK:FK:FK:F^C,g'^C,K:F^C,K:FK:FK:FK:F^C,K:Gdor^C,K:FK:FK:AdorK:FK:FK:GdorK:F^C,K:FK:GdorK:FK:F^C,K:FK:AdorK:F^C,K:FK:Fg'K:Fg'^C,g'K:FK:FK:F^C,K:FK:GdorK:Fd'K:GdorK:FK:Gdor^C,K:FK:FK:GdorK:FK:GdorK:FK:GdorK:Ador_b'^C,K:FK:FaK:FK:FK:GdorK:Gdor^C,^C,^C,K:FK:Gdor^C,K:FK:FK:F=d^C,_aK:FK:FK:FK:FK:FK:FK:FK:F^C,K:FK:FK:GdorK:FK:FK:FK:Ador^C,^C,K:FK:FK:GdorK:FK:FK:FK:FK:FK:FK:GdorK:FK:AdorK:FK:F^C,K:FK:FK:FK:FK:FK:FK:FK:FK:FK:FK:FK:FK:GdorK:F^C,K:FK:FK:Fg'g'K:GdorK:FK:FK:FK:FK:FK:FK:FK:FK:F^C,K:FK:FK:FK:FK:FK:FK:F^C,=dK:Gdor^C,K:FK:FK:FK:FK:FK:FK:FK:FK:FK:FK:FK:FK:FK:F^C,K:F^C,K:FK:FK:F^C,K:FK:FK:FK:FK:FK:FK:GdorK:FK:FK:FK:Gdorg'K:FK:FK:F^C,K:F_a_a^C,K:FK:FK:FgK:F^C,g'K:F^C,K:FK:FK:FK:FK:FK:FK:FK:FK:FK:FK:FK:FK:FK:FK:FK:FK:FK:FK:GdorK:FK:FK:FK:F=d^C,K:FK:FK:FK:FK:GdorK:FK:FK:FK:FK:FK:GdorK:FK:AdorK:FK:FK:FK:AdorK:FK:FK:FK:FK:FK:GdorK:FK:Fg'^C,K:GdorK:GdorK:FK:F^C,K:FK:FK:FK:FK:FK:FK:FK:F^C,^C,K:F^C,K:FK:FK:FK:FK:FK:FK:FK:FK:Fg'K:F^C,=E^C,K:FK:FK:FK:FK:FK:F^C,K:FK:F^C,^C,^C,^C,^C,g^C,K:F^C,^C,^C,^C,K:F^C,=d^C,=d^C,=dK:F^C,^f^C,K:F^C,^C,^C,K:F^C,K:F^C,K:F^C,^C,^C,^C,K:FK:F=EgK:F^C,K:F=d^C,K:F^C,K:FgK:FK:F^C,K:F^C,K:Fg'K:FK:FK:F=dK:FK:FK:FK:F^C,K:F^C,K:FK:FK:F=dgg'^C,K:FK:FK:F^C,K:F^C,K:FK:FK:F=dK:F^fK:F^C,K:FK:F^C,K:FK:FK:FK:FK:FK:F^C,K:FK:FK:FK:F^C,K:FK:FK:DmixK:FK:FK:F^fK:FK:F^fK:F^fK:Gm^C,^cK:F=dgK:F_b'K:FK:F=dg'K:FK:FK:FK:FK:F^C,=dK:FK:FK:FK:FK:FK:F^C,K:FK:Fg^C,K:FK:FK:FK:F^C,^C,=EK:FK:FK:F^C,^C,^C,K:Fg^C,K:F^C,^C,K:FK:F^C,K:F^C,K:FK:FK:F^C,^C,K:FK:FK:FK:FK:FK:FK:FK:FK:F_aK:FK:DmixK:Fg^C,^C,^cK:FK:FK:FK:F^C,K:F=EK:FK:F^C,^C,K:FK:Fg'^C,^fK:F^C,^C,=E^C,^C,K:FK:FK:Fg'K:FK:F^C,K:FK:FK:FK:FK:FK:FK:Fg_b'^C,K:FK:F^C,K:FK:FK:FK:FK:F_aK:FK:FK:FK:FK:FK:FK:FK:FK:AdorK:FK:FK:F^C,K:AdorK:FK:FK:FK:F=EK:FK:FK:FK:FK:FK:FK:FK:F^C,K:FK:FK:FK:FK:FK:DmixK:FK:F^D^C,_aK:FK:F^C,K:FK:FK:FK:FK:FK:FK:FK:FK:FK:FK:FK:F^C,g'K:FK:FK:FK:FK:F^C,K:F^C,K:FK:FK:FK:FK:FK:FK:FK:FK:FK:FK:FK:FK:FK:FK:FK:FK:FK:FK:F^C,K:FK:FK:GdorK:FK:FK:FK:FK:FK:FK:FK:FK:FK:F^C,K:FK:Ador=d=EK:DmixK:FK:F_b'K:FK:FK:FK:FK:F=EK:FK:F^C,K:FK:FK:FK:F^C,K:FK:FK:FK:FK:FK:FK:FK:GdorK:FK:F^fK:FK:FK:FK:FK:FK:FK:FK:FK:DmixK:FK:FK:FK:GdorgK:FK:GdorK:FK:F^C,K:FK:FK:DmixK:FK:FK:FK:F_b'K:FK:FK:FK:FK:FK:FK:FK:FK:FK:FK:FK:FK:FK:FK:FK:F^C,K:FK:FK:FK:FK:F^C,K:GdorK:FK:FK:FK:GdorK:FK:FK:Fd'K:FK:FK:FK:FK:FK:FK:FK:FK:FK:FK:GdorK:FK:FK:FK:FK:FK:FK:F^C,K:FK:FK:FK:FK:FK:FK:FK:FK:FK:FK:FK:FK:FK:FK:FK:F^C,K:FK:FK:F^C,K:FK:FK:FK:FK:GdorK:FK:FK:Fg'K:FK:FK:FK:FK:FK:FK:FK:FK:FK:FK:FK:FK:FK:FK:F^C,K:FK:FK:F~K:FK:FK:FK:FK:FK:FK:F^C,K:FK:FK:FK:F::gK:GdorBK:GdorK:Gdorg^C,K:F^C,K:F^C,^C,^C,^C,K:FK:FK:FK:FK:GmK:FK:F^C,K:FK:FK:FK:F^fK:FK:F=dK:F^C,K:FK:FK:AdorK:FK:FK:GmgK:FK:FK:F^C,K:FK:FK:FK:FK:FK:FK:FK:FK:AdorK:FK:F^C,K:FK:FK:Fg'K:FK:FK:FK:FK:FK:FK:F^C,=E^C,=EK:FK:FK:FK:FK:FK:FK:FK:FK:FK:F^C,K:FK:FK:FK:FK:FK:Gdord'=dK:FK:FK:FK:Dmix=EK:Gdorg^C,^C,K:FK:FK:FK:FK:F^C,K:FK:FK:FK:FaK:FK:FK:F^C,K:FK:F^C,K:Gdor^C,K:FK:FK:FK:FK:F^cK:F(9K:FK:FK:F^C,K:F^C,K:FK:FK:F^C,K:FK:FK:FK:FK:FK:FK:FK:FK:FK:FaK:FK:FK:AdorK:FK:GdorK:FK:FK:FK:Gdor^C,=dK:FK:FK:FK:FK:F^C,=eK:F^C,K:FK:GdorK:F^C,K:FK:F^C,K:FK:FK:FK:F^C,K:FK:FK:FK:DmixK:FK:FK:F^C,^C,K:FK:FK:F^C,K:FK:FK:F=dK:FK:FK:GdorK:FK:FK:F=A^C,K:FK:FK:GdorK:AdorK:FgK:FK:FK:AdorK:FK:FK:FK:FK:FK:FaK:F^C,K:GdorK:FK:FK:FK:FK:FK:FK:FK:FK:FK:FK:FK:FK:FK:FK:FK:FK:F^C,^C,K:FK:FK:FK:FK:FK:FK:F^C,K:F^C,K:FK:FK:FK:F^C,^C,K:FK:FK:FK:FK:FK:F^C,K:FK:FK:FK:DmixK:FaK:GdorK:FK:FK:AdorK:F^C,K:AdorK:F^C,K:FK:AdorK:FK:FK:FK:DmixK:FK:FK:AdorK:FK:FK:FK:FK:FK:FK:FK:FK:FK:GdorK:FK:FK:GdorK:FK:FK:FK:FK:AdorK:FK:FK:FK:F^C,K:FK:GdorK:FK:FK:FK:FK:FK:FK:FK:GdorK:FK:FK:FK:GdorK:FK:AdorK:FK:FK:FK:GdorK:FK:FK:FK:FK:FK:FK:AdorK:FK:FK:FK:GdorK:AdorK:FK:GdorK:FK:FK:FK:FK:FK:FK:GdorK:FK:FK:GdorK:AdorK:GdorK:FK:FK:F^C,K:FK:FaK:FK:FK:FK:FK:FK:FK:FK:FK:FK:AdorK:DmixK:FK:FK:F^C,K:FK:FK:FK:FK:AdorK:FK:FK:FK:FK:FK:FK:AdorK:FK:FK:FK:F^C,K:FK:FK:GdorK:FK:AdorK:FK:FK:FK:FK:FK:Gdor^C,K:FK:FK:FK:FK:AdorK:FK:FK:AdorK:FK:FK:FK:FK:FK:FK:AdorK:Ador=EK:FK:FK:FK:FK:FK:FK:FK:FK:FK:F=EK:FK:FK:FK:FK:FK:FK:F^C,K:FK:FK:FK:FK:GdorK:FK:F=Ag'K:FK:FK:FK:FK:FK:FK:FK:FK:FK:FK:FK:FK:FK:F=dK:FK:FK:AdorK:FK:FK:FK:FK:FK:FK:FK:FK:FK:FK:FK:FK:GdorK:FK:FK:FK:F^C,K:FK:F^C,K:FK:FK:FK:FK:FaK:AdorK:FK:FK:FK:FK:FK:F^C,K:FK:FK:F^C,^C,^C,^C,^C,^C,^C,K:F^C,^C,^C,^C,K:GdorK:F^C,K:F^C,^C,^C,^C,^C,^C,^C,^C,^C,^C,^C,^C,^C,K:F^C,K:Dmix^C,g^C,^C,K:F^C,^C,^C,^C,^C,K:F^C,^C,^C,K:FK:FK:F^C,^C,K:Dmix^C,K:Fg'^C,K:F^C,K:F^C,_a^C,K:FK:F^C,g^C,K:FK:F^C,^C,K:FK:F^C,^C,^C,^C,^C,^C,K:F^C,^C,K:F^C,K:F^C,^C,K:F^C,K:FK:FK:F=g'K:FK:FK:FK:GdorK:F_a^C,K:F=g'K:Gdor^C,K:F^C,aK:FK:F^C,^C,^C,K:F^C,K:F=d^C,^C,^C,^C,K:FK:F^C,K:FK:FK:Gdord'K:FK:FK:F^C,^C,^C,K:FK:FK:Fd'K:FK:FK:FK:FK:FK:F^C,^C,K:F^C,K:FK:FK:Gdor^C,g'K:F^C,g'K:FK:FK:GdorK:FK:FK:FK:AdorK:AdorK:F^C,^C,K:FK:FK:FK:FK:FK:FK:FK:GdorK:FK:GdorK:FK:FK:FK:FK:FaK:FK:FK:FK:Dmix^C,K:F^C,d'K:FK:FK:F^C,K:FK:Gdor^C,K:FK:FK:FaK:FK:F^C,K:Gdor^C,K:F^C,K:F^C,K:Gdor^C,K:GdorK:Dmix^C,K:FK:Gdor^C,K:FK:FK:Gdor^C,K:FK:FK:Gdorg'^C,K:F^C,K:FK:FK:FK:FK:FK:GdorK:FK:FK:FK:FK:GdorK:FK:FK:FK:FK:F^C,K:FK:GdorK:FK:F^C,K:FK:FK:F^C,K:F^C,K:FK:FK:FK:DmixK:FK:FK:FK:GdorK:FK:GdorK:FK:FK:FK:DmixK:FK:GdorK:GdorK:FK:FK:GdorK:GdorK:FK:FK:FK:FK:FK:FK:F^C,K:GdorK:FK:GdorK:FK:F^C,K:FK:FK:GdorK:FK:F^C,K:FK:FK:FK:FK:Gdor^C,K:GdorK:FK:FK:Gdor^C,K:FK:F^C,^C,K:FK:GdorK:GdorK:FK:F^C,K:FK:FK:FK:FK:Fg'K:FK:FK:Fg'K:Gdor^C,K:FK:FK:FK:FK:FK:FK:FK:GdorK:FK:FK:GdorK:F=g'K:F^C,K:FK:FK:FK:FK:DmixK:FK:FK:GdorK:FK:Ador^C,K:FK:FK:GdorK:FK:FK:GdorK:Gdor_aaK:FK:FK:GdorK:FK:FK:FK:Gdor^C,K:FK:GdorK:FK:FK:AdorK:GdorK:GdoraK:FK:GdorK:FK:GdorK:GdorK:F^C,K:FK:GdorK:FK:GdorK:FK:FK:FK:GdorK:GdorK:FK:FK:FK:FK:FK:FK:FK:FK:GdorK:FK:FK:FK:FK:FK:FK:GdorK:GdorK:FK:FK:GdorK:FK:F^C,K:FK:FK:FK:FK:FK:FK:Gdor^C,_aK:F^C,K:FK:FK:FK:F^C,K:F^C,K:FK:FK:GdorK:FK:FK:FK:FK:FK:FK:FK:FK:GdorK:F^C,K:F^C,K:FK:FK:F^C,^C,K:GdorK:FK:FK:FK:FK:FK:FK:FK:GdorK:FK:FK:FK:GdorK:GdorK:FK:FK:F^C,K:FaK:FK:FK:Ador^C,K:FK:GdorK:FK:FK:GdorK:FK:FK:FK:FK:FK:FK:FK:FK:Gdor^C,a=g'a=EK:F^C,K:GdorK:DmixK:FK:FK:FK:Fg^C,K:F^C,K:F^C,^D^C,^C,^C,K:F^C,gK:FK:FK:FK:F^C,K:GdorK:FK:F^D^C,^C,K:F^C,K:F^C,K:Dmix=g'K:F^C,^C,K:FK:FK:GdorK:F^C,K:FK:FK:EdorK:F_aK:EdorK:F^C,=EK:FK:DmixK:FK:DmixK:FK:F^C,K:FK:GdorK:Gdor^C,K:F^C,^C,K:FK:FK:EdorK:F^C,^C,K:F^C,K:DmixK:FK:DmixK:Edor^C,K:GdorK:F^C,^C,K:EdorK:Gdor^C,^C,^C,K:FK:FK:EdorK:FK:Dmix_aK:F^C,K:FK:FK:Fg'_a^C,K:F^C,^C,d'K:F^C,K:F^C,K:Gdor^DK:F^C,=E^C,K:Dmix^C,K:DmixK:GdorK:F^C,K:FK:FK:FK:F^C,^C,^C,K:F^C,K:FK:Dmix^C,K:FK:FK:FK:FK:F=g'K:FK:AdorK:GdorK:Fgg'K:FK:F^C,K:F^C,K:Dmix^C,K:GdorK:FK:FK:Gdor^C,K:DmixK:FgK:GdorK:F^C,K:FK:FK:FK:FK:GdorK:Gdor^C,K:Dmix^C,K:F^C,K:FK:F^C,K:FK:FK:GdorK:Gdor^C,K:Fg'K:F_b'^C,K:FK:Gdord'K:F=d^C,K:FK:Dmix_b'^C,K:DmixK:F^C,K:GdorK:FK:FK:Gdor^C,gaK:Fg'K:DmixK:FK:FK:FK:Fd'K:FK:FK:F^C,K:F^C,K:F^C,^C,K:F^D^C,K:GdorK:EdorK:GdorK:FK:FK:FK:Edorg'^C,d'K:FK:Gdor^C,K:GdorK:F^C,K:FK:F^C,K:F^C,K:Edor^C,K:F^C,^C,K:FK:DmixK:GdorK:FK:FK:GdorK:GdorK:GdorK:FK:FK:GdorK:FK:DmixK:FK:GdorK:F_aK:FK:FK:F^C,K:GdorK:FK:FK:FK:GdorK:GdorK:FK:FK:FK:FK:FK:FK:FK:F^C,K:FK:FK:FK:GdorK:FK:GdorK:Edor~K:FK:FK:GdorK:F^C,K:Edor~K:GdorK:FK:F^C,K:FK:GdorK:FK:F^C,^C,K:FK:GdorK:GdorK:GdorK:FK:FK:GdorK:F^C,K:FK:F^C,K:FK:DmixK:GdorK:FK:Gdor^C,K:FK:FK:FK:F^C,K:GdorK:FK:FK:FK:FK:FK:FK:FK:FK:Fd'K:GdorK:FK:FK:GdorK:F_b'K:GdorK:FK:FK:FK:FK:GdorK:FK:Edorg'K:FK:GdorK:FK:FK:F^C,K:GdorK:GdorK:FK:Gdor^C,K:DmixK:FK:GdorK:GdorK:FK:F^C,K:FK:FK:FK:FK:F^C,K:FK:FK:FK:FK:GdorK:FK:FK:GdorK:FK:F^C,K:Fg'K:GdorK:GdorK:FK:FK:GdorK:FK:FK:DmixK:GdorK:FK:FK:FK:FK:FK:FK:GdorK:FK:GdorK:Fd'K:FK:GdorK:GdorK:FK:FK:GdorK:FK:F^C,K:FK:FK:GdorK:FK:FK:FK:FK:FK:FK:FK:FK:FK:GdorK:FK:FK:FK:F^C,K:GdorK:FK:FK:GdorK:FK:FK:FaK:FK:GdorK:Fg'K:GdorK:FK:GdorK:GdorK:FK:FK:FK:GdorK:GdorK:GdorK:FK:FK:FK:FK:FK:FK:GdorK:FK:F^C,K:GdorK:FK:FK:FK:F^C,K:FK:GdorK:FK:GdorK:GdorK:FK:FK:FK:FK:FK:FK:FK:FK:Dmix~K:FK:GdorK:FK:GdorK:FK:FK:FK:GdorK:DmixK:FK:F_a^C,K:GdorK:F_a_a^C,^C,K:F^D_d^C,^C,^C,K:F^C,^C,g^C,^C,K:FK:Dmix^C,K:DmixK:Gdor^C,^C,K:F^C,K:F^C,K:FK:FK:F=g'K:F_aK:F^C,_aK:FK:FK:F^C,K:F^C,^C,K:FK:F^C,^C,^C,K:FK:FK:FK:FK:FK:Gdor^C,^C,^C,^C,^C,K:F^C,^C,^C,^C,^C,^C,^C,^C,^C,^C,K:Fd'^C,K:FK:F^C,^C,^C,K:FK:F^C,K:F^C,K:F^C,^C,^C,d'^C,K:F^C,K:F^C,_a^C,^C,K:DmixK:FK:Dmix^C,^C,K:FK:F^C,K:FK:F^C,_b'^C,K:F^C,g'^C,K:FK:F^C,K:AdorK:Gdor=g'^C,K:DmixK:FK:Gdord'^C,K:FK:F^C,K:FK:F^C,K:FK:GdorK:FK:F^C,K:GdorK:FK:FK:Dmix_a_b'K:F^C,K:FK:FK:FK:FK:GdorK:F^C,K:DmixK:GdorK:F^C,^C,K:FK:FK:GdorK:F^C,^C,K:Dmix^C,=d_aK:FK:FK:FK:GdorK:FK:GdorK:FK:FK:FK:Dmix^C,K:Fd'^C,K:FK:Gdorg'K:GdorK:FK:F^C,_b'^C,^C,K:FK:FK:Dmix^C,g'K:F^C,K:F^C,K:DmixK:FK:FK:Gdor^C,^C,^C,K:FK:Fg'aK:FK:FK:DmixK:FK:FK:F^C,K:F^C,K:FK:GdorK:FK:F^C,K:FK:FK:FK:FK:FK:FK:FK:FK:DmixK:FK:FK:Fd'K:GdorK:GdorK:F_aK:Fd'^C,K:FK:FK:GdorK:GdorK:FK:FK:FK:F^C,K:FK:F=g'K:GdorK:F~K:GdorK:FK:Fd'^C,^C,K:FK:GdorK:Gdor=g'K:Gdor^C,K:FK:GdorK:FK:FK:FK:FK:F^C,K:GdorK:GdorK:F=g'K:FK:FK:FK:FK:FK:FK:FK:GdorK:DmixK:FK:FK:FK:GdorK:FK:FK:Fd'K:FK:GdorK:FK:FK:F^C,K:Gdor^C,K:F_aK:FK:FK:GdorK:FK:FK:FK:FK:GdorK:FK:FK:FK:F^C,K:FK:GdorgK:FK:F^C,K:GdorK:FgK:FK:FK:FK:FK:GdorK:FK:FK:GdorK:F=EK:FK:GdorK:GdorK:F^fK:GdorK:FK:FK:GdorK:FK:FK:GdorK:FK:GdorK:FK:Gdor^C,K:GdorK:FK:FK:GdorK:FK:FK:FK:FK:FK:FK:GdorK:GdorK:F_aK:FK:FK:FK:FK:FK:FK:FK:FK:GdorK:FK:FK:FK:F^C,aK:FK:FK:F_a'^C,K:FK:GdorK:FK:FK:GdorK:FK:GdorK:FK:F^C,K:FK:GdorK:FK:FK:FK:FK:GdorK:F^C,K:FK:GdorK:FK:FK:FK:FK:FK:FK:FK:FK:F^C,K:FK:FK:FK:FK:F^C,K:FK:GdorK:FK:GdorK:AdorK:FK:GdorK:FK:Fg'K:GdorBK:FK:FK:FK:GdorK:GdorK:FaK:FK:FK:GdorK:GdorK:FK:FK:FK:F^C,^C,K:FK:FK:F^C,K:GdorK:FK:GdorK:FK:FK:F^C,=dK:GdorK:FK:FK:FK:GdorK:DmixK:FK:FK:FK:GdorK:FK:FK:FK:FK:FK:FK:FK:FK:Gdor_d^C,K:FK:GdorK:GdorK:Gdor_aK:GdorK:GdorK:FK:F^C,K:GdorK:FK:GdorK:GdorK:GdorK:FK:FK:F^C,\n",
      ".......................................\n",
      "Saved checkpoint for step 2: /home/rithomas/project/AI-Music-Generation-Challenge-2020/configs/small_transformer/ckpt/ckpt-1\n"
     ]
    },
    {
     "name": "stdout",
     "output_type": "stream",
     "text": [
      "tf.Tensor(2.3048425, shape=(), dtype=float32)\n",
      "tf.Tensor(1.9752524, shape=(), dtype=float32)\n",
      "tf.Tensor(1.8124013, shape=(), dtype=float32)\n",
      "tf.Tensor(2.0554824, shape=(), dtype=float32)\n",
      "tf.Tensor(1.8073483, shape=(), dtype=float32)\n",
      "tf.Tensor(1.7043265, shape=(), dtype=float32)\n",
      "tf.Tensor(1.727475, shape=(), dtype=float32)\n",
      "tf.Tensor(1.8993243, shape=(), dtype=float32)\n",
      "tf.Tensor(1.6892247, shape=(), dtype=float32)\n",
      "tf.Tensor(1.8832014, shape=(), dtype=float32)\n",
      "tf.Tensor(2.0506918, shape=(), dtype=float32)\n",
      "tf.Tensor(1.5885513, shape=(), dtype=float32)\n",
      "tf.Tensor(1.5508952, shape=(), dtype=float32)\n",
      "tf.Tensor(2.4422145, shape=(), dtype=float32)\n",
      "tf.Tensor(1.9920866, shape=(), dtype=float32)\n",
      "tf.Tensor(1.9318385, shape=(), dtype=float32)\n",
      "tf.Tensor(1.5128874, shape=(), dtype=float32)\n",
      "tf.Tensor(1.6400954, shape=(), dtype=float32)\n",
      "tf.Tensor(1.4923148, shape=(), dtype=float32)\n",
      "tf.Tensor(1.7575462, shape=(), dtype=float32)\n",
      "tf.Tensor(1.573767, shape=(), dtype=float32)\n",
      "tf.Tensor(1.7527663, shape=(), dtype=float32)\n",
      "Saved checkpoint for step 8388608: /home/rithomas/project/AI-Music-Generation-Challenge-2020/configs/small_transformer/ckpt/ckpt-2\n",
      "Epoch 000: Loss: 1.963, Accuracy: 0.000%\n",
      "tf.Tensor(1.4024396, shape=(), dtype=float32)\n",
      "---------- Generated Output -----------\n",
      "ABAAABAA|ABAAAAB|AAABAAAAABBBAABA|A|AAAAAAAAA|c|||BA|||AGAAAAAAAAAAAAAAAAAAAAAAAA|AAAAAAAAAAAAA|AAGddAdAd|G|d|AAAAd|AAAd|||||||||GAAAAAAAAAAAAAA|AA|AA||||||||||||||||AAAddAAAAAAAAdA|A|||AAAG|dAAA||AB||Bc|||||||||||A||||c|AAAAAAAAAAAAAAAAAAAAAAAAAAA|ABAAAAAAAABABBAAAAAc||||GGBBAAAA|A|A|AA|AAABAABABABBABBBBBBBBBBcBBBA|GGGAAGGABAAAAAAAAAA|AAABAAAAAAAAdBA|Bg|ABAAABBBBABB|AAAAAAAAAAA|AABABA|||AA|AAA|||A|GcAAAAB|AA|AAABBAA|A|AAA|AA|A|ABAAAAA|AA||||dAdAAAAAAAAAAAAAA|AA|AAA|A||||||||||FFGAAAAAABA|A|AA||AAA|||||||A|A|A|A|||||A||||||||||AAdAAABAAAAAAAAA|AAA|||||||\n",
      ".......................................\n",
      "Saved checkpoint for step 16777216: /home/rithomas/project/AI-Music-Generation-Challenge-2020/configs/small_transformer/ckpt/ckpt-3\n",
      "tf.Tensor(1.4484509, shape=(), dtype=float32)\n",
      "tf.Tensor(1.2431996, shape=(), dtype=float32)\n",
      "tf.Tensor(1.1571885, shape=(), dtype=float32)\n",
      "tf.Tensor(1.1762037, shape=(), dtype=float32)\n",
      "tf.Tensor(1.1530417, shape=(), dtype=float32)\n",
      "tf.Tensor(1.21073, shape=(), dtype=float32)\n",
      "tf.Tensor(1.0951623, shape=(), dtype=float32)\n",
      "tf.Tensor(1.053758, shape=(), dtype=float32)\n",
      "tf.Tensor(1.1431625, shape=(), dtype=float32)\n",
      "tf.Tensor(1.2081091, shape=(), dtype=float32)\n",
      "tf.Tensor(1.1192807, shape=(), dtype=float32)\n",
      "tf.Tensor(1.0873171, shape=(), dtype=float32)\n",
      "tf.Tensor(1.3041583, shape=(), dtype=float32)\n",
      "tf.Tensor(1.1041081, shape=(), dtype=float32)\n",
      "tf.Tensor(1.2107323, shape=(), dtype=float32)\n",
      "tf.Tensor(1.2161254, shape=(), dtype=float32)\n",
      "tf.Tensor(1.1047662, shape=(), dtype=float32)\n",
      "tf.Tensor(1.2747736, shape=(), dtype=float32)\n",
      "tf.Tensor(1.1601744, shape=(), dtype=float32)\n",
      "tf.Tensor(1.3104635, shape=(), dtype=float32)\n",
      "tf.Tensor(1.1454794, shape=(), dtype=float32)\n",
      "tf.Tensor(1.0677122, shape=(), dtype=float32)\n",
      "Saved checkpoint for step 0: /home/rithomas/project/AI-Music-Generation-Challenge-2020/configs/small_transformer/ckpt/ckpt-4\n",
      "tf.Tensor(0.86918193, shape=(), dtype=float32)\n",
      "---------- Generated Output -----------\n",
      "FGBGAAAAddG|BAA||AABdABABd|AAdAB||AA|||AAGA|BAA|||c|BAB|Bd||fAdABee|||Be||ABdd|B|||B||d|||||df||d||||G|||G|e||||||BAAAAAAAGdGAdAAdAAdGdddGAAAA|dAdA|dAdd|d|dd|dAdB|GddAGd|dAAddBdAdddA|ddAdddddd|d|d|Add|AAGAd|dB|Ad||||ddBdddAdAA|ddddGGBGGBGGGAAABdABdBAGAGGABABAdAGGBdBBBFAdB|BGAAGdA|BAAFA|GFFB||FB||AAF|cB||d|GA|dBd|ddGd|||A|Ac||A|||d||FdF|dA|||GGGAGGAAFABAGAAAA|AAgAGAAAAGAA|AAAABBAGGAAAAAA||AcAABAAA|A|AdB|BAAAAG||e||FA||||G|B||AA||AG|||Ad|A|||||||Be||Fd||AAAGGdGGG|AAAAGGdfFAG|AdAAAGG||A||AA|||||||||d||A|||Ad||A|||||d||c|A||||||||||||e||||||dd|d||||||A||dd||d||d|||||||||ABAAAAAAAAABAAAAGGAGBAAA|AB|AGABGGG|AA||AdfA|||A|Bd|||G|AA||A|||A||A|G|||||A|A|A||||||||||A|A|G|e||AABA|BddBGBGddAGBABddBAdBB|BGAAdABBBdBAAAAAAdBB|GBAdA||d|d||dAdBfdddBGdBddd|ddfd|f||AA|Bd||BAAFfAGABff|BABd||A|AdfA|||AB|A|fAA|AAABBBAB||||d|fA|fBAB|BB|BAfB||AA||B|BABcBBBB|B|A|||G||||A|||||A|||Ad||||||||B|Bf|B|g||d||||B||||||||||||||AGGAAG|AfdAddBdAGAABGdA|dABAAA|fB|dGdAAdBA||||||AdAA|fBeBAd||||dAe|AA|AAffBB||||||||ddA|||ddAA||d|d|||||A|d||d||d|||||AAABAAAAAAAAABBAAAAAAAABdAAAAdAAAABAABAABdABBABAAAAAA|BB|ABAAA|BG|GdddABBdeAAGAAA|GABBAAddA|B|AAdG|BAdBBdd|A|AAB|||Ad|d|BAA|AA||AdA|e||B||ddd|||A|A2A|A||dB|A|fGdB|||d||d|dd|Bd|GGdAGAAd|AAAAABfAAAAAAdAABABAA|BA||||Addd|fAA|BA|AAdd||Ad|AAdd|A|AAdd|||d||||||A|d|||AA|||||||||||||d|||||f|AABBBG|AGdcdGBBBBBAAA|Ac|||A||||AA|A|ABA|AA||F|A|BA||A||AG|AA||GAA|A|AB||AABB|A|BABB|AAA|||ABABA|dBc|||BA||||A|AB||A||GGGGGAGGGGGAAdddAAAdGGGAdAG|AGAdAddeBddAA|dAdddddfG|ddAd|dAddddd|d|dAddddd|dAA|||GA|ddd||d|dd||||||dB|ed|||AdBdde|A|dcABGBBABAABBAAAd|AABAGGABGddGAAA|BAB|AA||Bf||B||||B|AA||dAG|f|B|||e|||d||||Bf|||||cdG|||||||||B|f|dA|B|||FGAGAAGAAAAGAAGGAFG|GAAgBA|AAGAA|G|AGA|AA|A|A||A|G|||A|e|AA|||Ac2A||2A||G|AG|A||||G|||||||||||||||||||||F|||A|||A|||||||||||||||||||||c||||c|ABBBBAABBBABBABA|ABBB|ABABBd|A|BdA|BddA|||||d|||A|BBd|B|||dBB||AdA|||Addf||||BdBd|BGd|||||||\n",
      ".......................................\n",
      "Saved checkpoint for step 0: /home/rithomas/project/AI-Music-Generation-Challenge-2020/configs/small_transformer/ckpt/ckpt-5\n",
      "tf.Tensor(1.0358162, shape=(), dtype=float32)\n",
      "tf.Tensor(1.1378521, shape=(), dtype=float32)\n",
      "tf.Tensor(1.0380805, shape=(), dtype=float32)\n",
      "tf.Tensor(0.99613404, shape=(), dtype=float32)\n",
      "tf.Tensor(1.0290464, shape=(), dtype=float32)\n",
      "tf.Tensor(0.93970096, shape=(), dtype=float32)\n",
      "tf.Tensor(0.9935896, shape=(), dtype=float32)\n",
      "tf.Tensor(1.0883985, shape=(), dtype=float32)\n",
      "tf.Tensor(1.1029108, shape=(), dtype=float32)\n",
      "tf.Tensor(0.9403191, shape=(), dtype=float32)\n",
      "tf.Tensor(0.9932265, shape=(), dtype=float32)\n",
      "tf.Tensor(1.0742756, shape=(), dtype=float32)\n",
      "tf.Tensor(1.0665672, shape=(), dtype=float32)\n",
      "tf.Tensor(1.4423324, shape=(), dtype=float32)\n",
      "tf.Tensor(0.9490211, shape=(), dtype=float32)\n",
      "tf.Tensor(1.0198927, shape=(), dtype=float32)\n",
      "tf.Tensor(1.0622387, shape=(), dtype=float32)\n",
      "tf.Tensor(1.1428589, shape=(), dtype=float32)\n",
      "tf.Tensor(1.0932503, shape=(), dtype=float32)\n",
      "tf.Tensor(1.0123806, shape=(), dtype=float32)\n",
      "tf.Tensor(1.0375887, shape=(), dtype=float32)\n",
      "tf.Tensor(1.0878862, shape=(), dtype=float32)\n",
      "Saved checkpoint for step 0: /home/rithomas/project/AI-Music-Generation-Challenge-2020/configs/small_transformer/ckpt/ckpt-6\n",
      "tf.Tensor(1.0450975, shape=(), dtype=float32)\n",
      "---------- Generated Output -----------\n",
      "BABBABBBBBABBBBG|BB|BBBBAAABGdBdBBBBBBBBABB|BAB|BB||||dBA||dBAcd|AAGB|dA|ABBB|d|B||efB|Bdf|A|||ABBA|cAddf||AB|||||B|BdAff||A||AGA|d|AA||||cGGGBGBAAGBGc|GAAAGGBG|A|A|AA|G|AGf|AAABB|cBG|dA|AAA|BcG|GdAAA|dAAd|||A|ABAAB|||dAB||AdA|AAG|Ac2AAAA|B|d|d|Af|||||B|AAFAAAABGGBBAAAAcc|AAGAABcA|BBA|AAG|BBBBAAGB|f|A|AA|A|BdGdcd||A||d||fBf|Gfdccd|df|dAefB|dd|d|B|fABdfdccd|e|ABdf|e|fBcf|GGGcAAAAAAAGAAAAGAGGBAA|dGAGGAAdBGG|||AG|||AAA|A|c|BBc|AdGc2B||d||GGB||||cGc|||||GA|Adcc|||||||c|fce|||||||AdcB|||Bd||BA||c2|ce|d||||d|ccd|||B|||GGGcddGA|GGG|dBBBAB|ddddGd|AABBAG|BB||BB|dBddddfddAAd|ABBGB|GABAcdBdAABc||B||Bd|AdBdfdfA|BeBB|B||Bd|c|||d|deABAAddd||dd||||B||dd|||dd||d||||||||||||||ABBc||||||GBA||||||ee|Bc||c||||A|||BGGAGBAAAAGAAGGAAAGBABAGBAAAAABAAAAAGAAABAA|AAAAdAdG|BdAAG|AGAAB|BAAA|dAdA|AA|||A|dd|A||AAA|GAAdAd|AdAd|dFd||d|d|AeAd|A|AAAAAAdd|dd|||B|AA|A|d|dAAfcA||AA|Gdd|A||||AAAAAc|GA|BB|dc|A|A|||B|||||AA|dGce||cAA|A||AdAAdA|ef|AA||dA||AAd|dd|ed||||c||||AdAdf|||c|A||de|g|AAd||A||||d|AAAdd||||||Gc|AAdd|||eAAG2c|||||||||d||B|d||||||||dA2||||Ace||A|d|A|A|A|||GGGGGGGBGGAGGBAAAAAABBABABAAAGBBBBAGBBAAGAAGBABABBBBABAAA|ABAGAABAAGAAe|A|BAA|AAGA|ccBcBAAAGAAB|AGGB|AAB|B|Ac|A|A|Bee|ABG|cF||AAcf||AcccGcA||A|e|cBBBd|A|cc|A|BAA|e|ABdABBBBBGGGBGGAd||G|dGd|G|GBBGAGAABAd|ABA|AG|||A|||AddGd|GG||||GGddAAdG|||d||G|Gd||d||Gc||d||G||G|A|GdGc|||||dcAe|A|GG|d||||||A|||dd|||||d|c|e|ABGFAAAAAAAAAAABAAAABAGAGGAGAGGGAAAAAdAAAAAAAdABdAAGcAAdGGAdGeABdBAdcAAcGA|AGAAAddAGAAdABAGAAGddGcAeABAAdAd|AdBA|dAAc|cBBcBFAABBAAAAAAF|ABcAABAdAcAcB|AcAAAAcB|AAcAFBccFcABAAABAA||A|||BcAGG|F|AAcAcGef|||dA||A|Bc|F|F||||B|A|||F|||||||Ae|ABAcAAcAAcAGAAGcAAfAdAfGcAAAdAfdAdcAAAAAcd|AfddfAAAAcAcdcdd|AfGGAdc|AA||AAA|AdAcdAAABdAdc|dAAA2AdAAA||cdfdAc||cff|cd|ffddGcc||dd|fAA|dAAd|d|||d|c|e|A|ddcedAd||fdG|cdccc|Af|cc|cdcd|||A|A||A||cA||||2|||f|f|cc|ccAAA|Ad|d|||c||d|dBdedGFGGAAAAAAGBAGAGAABABGABAAAAAAABAAABG|BAABAAAdAfGF|ABAA2dAAAB||GeB|AAfd||BBGAGA|d|AG|A|deBB||B|AAAABe|e|AGA|Af|BA2AFAGGAGAABAGAABAGGAAAAAGBAGAAGABAAGAABAAGGAAAAGABAdAB|AdBGGfAAAd|A|B|BAGGeAAAG|AB|AdABB|AGBBd|f|A|F|Gd|GcAAAGBc|AA||AAAB||A|cA||A|||G|AAdAc|G|BdGAAG|GAG||ddddd||||BAdAAd|BAdd|dddd|d|ddddA|GAAd|dAc|GddA||gddBdddABA|Ad|BdABAdA|BAdd|AddA|d||dddd|||A|f|B||d|||GAAAAAAAGAGAAGAAGAAB|A|fABAAA|BAG|GGA|BB|||c|A|ccAB|GcA||AA|||cFA|BBBAA|c|AB||AceAAAA|ccceeABBA|e|Ffc|Aeg2||||ABG|eeB|2ABGFe||||fe|||fe||GFFAAAAAAAAGABBAAAA|AAAAAA|AA|AAA|AA|A|AAAAAA|AeAA|AAA||A||AA|Ae|AB||A||AAf|||||dAA|AGA||A|e|||A|A||A|eA|dAAA||A|||AA|A|||AAAA|A|dA|||||AA|A||AA|||d|A|||||Af|A||A||||||||\n",
      ".......................................\n",
      "Saved checkpoint for step 0: /home/rithomas/project/AI-Music-Generation-Challenge-2020/configs/small_transformer/ckpt/ckpt-7\n"
     ]
    },
    {
     "name": "stdout",
     "output_type": "stream",
     "text": [
      "tf.Tensor(0.9380147, shape=(), dtype=float32)\n",
      "tf.Tensor(0.9244066, shape=(), dtype=float32)\n",
      "tf.Tensor(1.0054761, shape=(), dtype=float32)\n",
      "tf.Tensor(0.85066426, shape=(), dtype=float32)\n",
      "tf.Tensor(1.0550268, shape=(), dtype=float32)\n",
      "tf.Tensor(0.8763925, shape=(), dtype=float32)\n",
      "tf.Tensor(1.0180161, shape=(), dtype=float32)\n",
      "tf.Tensor(1.034436, shape=(), dtype=float32)\n",
      "tf.Tensor(0.90840286, shape=(), dtype=float32)\n",
      "tf.Tensor(0.9486738, shape=(), dtype=float32)\n",
      "tf.Tensor(0.93297476, shape=(), dtype=float32)\n",
      "tf.Tensor(1.11587, shape=(), dtype=float32)\n",
      "tf.Tensor(0.94104034, shape=(), dtype=float32)\n",
      "tf.Tensor(1.2080641, shape=(), dtype=float32)\n",
      "tf.Tensor(0.91666275, shape=(), dtype=float32)\n",
      "tf.Tensor(1.1195349, shape=(), dtype=float32)\n",
      "tf.Tensor(1.036462, shape=(), dtype=float32)\n",
      "tf.Tensor(1.0379046, shape=(), dtype=float32)\n",
      "tf.Tensor(1.1848245, shape=(), dtype=float32)\n",
      "tf.Tensor(0.9484732, shape=(), dtype=float32)\n"
     ]
    }
   ],
   "source": [
    "batch_size = 16\n",
    "FOLK_TRANSFORMER_DIR = os.path.join(BASE_DIR, 'configs', 'small_transformer')\n",
    "\n",
    "dataset = preprocessor.prepare_dataset(preprocessed_dataset, batch_size)\n",
    "data_dims = preprocessor.get_data_dimensions(ABC_TFRECORD_DIR)\n",
    "model = FolkTransformer(FOLK_TRANSFORMER_DIR, data_dims, ABC_TFRECORD_DIR)\n",
    "\n",
    "print(data_dims)\n",
    "print(model.get_configs())\n",
    "\n",
    "model.train(dataset)"
   ]
  },
  {
   "cell_type": "markdown",
   "metadata": {},
   "source": [
    "# Generate 10000 double jigs!"
   ]
  },
  {
   "cell_type": "code",
   "execution_count": null,
   "metadata": {},
   "outputs": [],
   "source": [
    "model.generate_10000_double_jigs()"
   ]
  }
 ],
 "metadata": {
  "kernelspec": {
   "display_name": "ai_music_challenge",
   "language": "python",
   "name": "ai_music_challenge"
  },
  "language_info": {
   "codemirror_mode": {
    "name": "ipython",
    "version": 3
   },
   "file_extension": ".py",
   "mimetype": "text/x-python",
   "name": "python",
   "nbconvert_exporter": "python",
   "pygments_lexer": "ipython3",
   "version": "3.6.9"
  }
 },
 "nbformat": 4,
 "nbformat_minor": 4
}
