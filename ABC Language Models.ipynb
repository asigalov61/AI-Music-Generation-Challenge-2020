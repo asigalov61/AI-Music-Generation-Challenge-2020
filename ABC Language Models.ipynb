{
 "cells": [
  {
   "cell_type": "markdown",
   "metadata": {},
   "source": [
    "## Import required packages"
   ]
  },
  {
   "cell_type": "code",
   "execution_count": 1,
   "metadata": {},
   "outputs": [],
   "source": [
    "import os\n",
    "import tensorflow as tf\n",
    "from data.abc import ABCPreProcessor\n",
    "from models.symbolic.rnn import CharLSTM"
   ]
  },
  {
   "cell_type": "markdown",
   "metadata": {},
   "source": [
    "## Required files and directories"
   ]
  },
  {
   "cell_type": "code",
   "execution_count": 2,
   "metadata": {},
   "outputs": [],
   "source": [
    "BASE_DIR = \"/home/richhiey/Desktop/workspace/projects/AI_Music_Challenge_2020/\"\n",
    "SRC_DIR = os.path.join(BASE_DIR, 'AI-Music-Generation-Challenge-2020')\n",
    "ABC_DATA_DIR = os.path.join(BASE_DIR, \"datasets\", \"abc_data\")\n",
    "AUDIO_DATA_DIR = os.path.join(BASE_DIR, \"datasets\", \"audio\")\n",
    "ABC_TFRECORD_DIR = os.path.join(BASE_DIR, \"tfrecords\", 'abc')\n",
    "AUDIO_TFRECORD_DIR = os.path.join(BASE_DIR, \"tfrecords\", 'audio')\n",
    "PROCESSED_ABC_FILENAME = 'processed-abc-files'\n",
    "PROCESSED_AUDIO_FILENAME = 'processed-audio-files'\n",
    "CHAR_LSTM_DIR = os.path.join(SRC_DIR, 'configs', 'char_lstm')"
   ]
  },
  {
   "cell_type": "markdown",
   "metadata": {},
   "source": [
    "## Load preprocessed dataset"
   ]
  },
  {
   "cell_type": "code",
   "execution_count": 3,
   "metadata": {},
   "outputs": [
    {
     "name": "stdout",
     "output_type": "stream",
     "text": [
      "<MapDataset shapes: ({K: (), M: (), R: ()}, {tune: (None, None)}), types: ({K: tf.int64, M: tf.int64, R: tf.int64}, {tune: tf.int64})>\n",
      "<RepeatDataset shapes: ({K: (None,), M: (None,), R: (None,)}, {tune: (None, None, None)}), types: ({K: tf.int64, M: tf.int64, R: tf.int64}, {tune: tf.int64})>\n"
     ]
    }
   ],
   "source": [
    "preprocessor = ABCPreProcessor(ABC_TFRECORD_DIR, PROCESSED_ABC_FILENAME)\n",
    "preprocessed_dataset = preprocessor.load_tfrecord_dataset()\n",
    "dataset = preprocessor.prepare_dataset(preprocessed_dataset)\n",
    "print(dataset)"
   ]
  },
  {
   "cell_type": "markdown",
   "metadata": {},
   "source": [
    "# Char-LSTM"
   ]
  },
  {
   "cell_type": "code",
   "execution_count": 4,
   "metadata": {},
   "outputs": [
    {
     "name": "stdout",
     "output_type": "stream",
     "text": [
      "---------- Input ----------\n",
      "Tensor(\"input_1:0\", shape=(None, 512, 1), dtype=float32)\n",
      "Tensor(\"input_2:0\", shape=(None, 1), dtype=float32)\n",
      "Tensor(\"input_4:0\", shape=(None, 1), dtype=float32)\n",
      "Tensor(\"input_3:0\", shape=(None, 1), dtype=float32)\n",
      "---------- Context ----------\n",
      "Tensor(\"embedding/embedding_lookup/Identity_1:0\", shape=(None, 512, 1, 16), dtype=float32)\n",
      "Tensor(\"embedding_1/embedding_lookup/Identity_1:0\", shape=(None, 512, 1, 16), dtype=float32)\n",
      "Tensor(\"embedding_2/embedding_lookup/Identity_1:0\", shape=(None, 512, 1, 16), dtype=float32)\n",
      "---------- Embeddings ----------\n",
      "Tensor(\"concatenate/concat:0\", shape=(None, 512, 1, 48), dtype=float32)\n",
      "Tensor(\"embedding_3/embedding_lookup/Identity_1:0\", shape=(None, 512, 1, 32), dtype=float32)\n",
      "Tensor(\"concatenate_1/concat:0\", shape=(None, 512, 1, 80), dtype=float32)\n",
      "Tensor(\"lambda/Squeeze:0\", shape=(None, 512, 80), dtype=float32)\n",
      "-------------------------------\n",
      "Tensor(\"lstm/PartitionedCall:1\", shape=(None, 512, 128), dtype=float32)\n",
      "Tensor(\"dense/BiasAdd:0\", shape=(None, 512, 66), dtype=float32)\n",
      "SparseTensor(indices=tf.Tensor(\n",
      "[[  0   0   0]\n",
      " [  0   0   1]\n",
      " [  0   0   2]\n",
      " ...\n",
      " [255   0 509]\n",
      " [255   0 510]\n",
      " [255   0 511]], shape=(131072, 3), dtype=int64), values=tf.Tensor([2 4 2 ... 0 0 0], shape=(131072,), dtype=int64), dense_shape=tf.Tensor([256   1 512], shape=(3,), dtype=int64))\n",
      "tf.Tensor(\n",
      "[[[ 2  4  2 ...  0  0  0]]\n",
      "\n",
      " [[ 2 11 14 ...  0  0  0]]\n",
      "\n",
      " [[12 27 12 ...  0  0  0]]\n",
      "\n",
      " ...\n",
      "\n",
      " [[11 14 14 ...  0  0  0]]\n",
      "\n",
      " [[ 8  6  8 ...  0  0  0]]\n",
      "\n",
      " [[14  7 16 ...  0  0  0]]], shape=(256, 1, 512), dtype=int64)\n",
      "-------------- Output ----------------\n",
      "tf.Tensor(\n",
      "[[[-1.34886219e-03 -2.82821013e-03  2.66176928e-03 ...  9.69876244e-04\n",
      "    9.65493266e-03 -1.86640292e-03]\n",
      "  [-4.51690168e-04 -1.38633040e-04  1.08902447e-03 ...  3.34898825e-03\n",
      "    1.24573670e-02 -2.57597794e-03]\n",
      "  [-3.14636249e-03 -3.37888720e-03  5.37464768e-03 ...  3.41418735e-03\n",
      "    1.96324736e-02 -5.22663724e-03]\n",
      "  ...\n",
      "  [-1.58605780e-02 -4.48146230e-03  2.29701977e-02 ...  9.63860936e-03\n",
      "    2.57487427e-02 -1.49571076e-02]\n",
      "  [-1.58595350e-02 -4.48116800e-03  2.29695383e-02 ...  9.63850599e-03\n",
      "    2.57477909e-02 -1.49573628e-02]\n",
      "  [-1.58586446e-02 -4.48093610e-03  2.29689647e-02 ...  9.63843055e-03\n",
      "    2.57469751e-02 -1.49575761e-02]]\n",
      "\n",
      " [[-1.34886219e-03 -2.82821013e-03  2.66176928e-03 ...  9.69876244e-04\n",
      "    9.65493266e-03 -1.86640292e-03]\n",
      "  [ 3.13187926e-03  2.31655780e-03  4.06159088e-03 ... -6.07872196e-03\n",
      "    1.75713263e-02  3.90418642e-03]\n",
      "  [ 3.03975656e-03 -1.64137024e-03  8.93643312e-03 ...  3.12716817e-04\n",
      "    2.15117671e-02  1.54611259e-03]\n",
      "  ...\n",
      "  [-1.58529878e-02 -4.48008021e-03  2.29654312e-02 ...  9.63875744e-03\n",
      "    2.57419907e-02 -1.49582122e-02]\n",
      "  [-1.58529878e-02 -4.48008021e-03  2.29654312e-02 ...  9.63875744e-03\n",
      "    2.57419907e-02 -1.49582122e-02]\n",
      "  [-1.58529878e-02 -4.48008021e-03  2.29654312e-02 ...  9.63875744e-03\n",
      "    2.57419907e-02 -1.49582122e-02]]\n",
      "\n",
      " [[ 3.13855265e-03  7.06341956e-03 -5.04878873e-04 ... -2.03714753e-03\n",
      "    1.01002567e-02 -1.27843441e-03]\n",
      "  [ 1.14616025e-02 -3.10926203e-04 -1.29053858e-03 ... -1.44821370e-03\n",
      "    1.80295259e-02 -3.15792928e-03]\n",
      "  [ 1.10088997e-02  7.29283737e-03  1.35940121e-04 ... -2.03757919e-03\n",
      "    2.31839754e-02 -3.24800052e-03]\n",
      "  ...\n",
      "  [ 4.83033713e-03  2.05664919e-03  1.25950137e-02 ...  1.53322080e-02\n",
      "    2.23529171e-02 -2.08654348e-02]\n",
      "  [ 4.83033713e-03  2.05664919e-03  1.25950146e-02 ...  1.53322080e-02\n",
      "    2.23529171e-02 -2.08654348e-02]\n",
      "  [ 4.83033713e-03  2.05664919e-03  1.25950137e-02 ...  1.53322080e-02\n",
      "    2.23529171e-02 -2.08654348e-02]]\n",
      "\n",
      " ...\n",
      "\n",
      " [[ 3.65283410e-03 -4.51241434e-03 -2.18445039e-03 ... -7.25237234e-03\n",
      "    6.59223460e-03  2.79605738e-03]\n",
      "  [ 3.96589469e-03 -1.50432521e-02  1.77602662e-04 ... -5.70922566e-04\n",
      "    8.64521507e-03 -1.08316680e-03]\n",
      "  [ 4.51339222e-03 -2.25442331e-02  2.92595848e-03 ...  5.06191934e-03\n",
      "    9.99231078e-03 -4.53766203e-03]\n",
      "  ...\n",
      "  [-7.42950360e-04 -2.98362747e-02  4.62059351e-03 ...  1.63879469e-02\n",
      "   -1.84368272e-03 -1.84565745e-02]\n",
      "  [-7.42950360e-04 -2.98362747e-02  4.62059351e-03 ...  1.63879469e-02\n",
      "   -1.84368272e-03 -1.84565745e-02]\n",
      "  [-7.42950360e-04 -2.98362747e-02  4.62059351e-03 ...  1.63879469e-02\n",
      "   -1.84368272e-03 -1.84565745e-02]]\n",
      "\n",
      " [[ 8.08144081e-03 -4.49867360e-03 -4.74083796e-03 ...  9.35974531e-05\n",
      "    1.37508139e-02 -7.05739344e-03]\n",
      "  [ 6.66054944e-03 -1.04928268e-02 -1.22518586e-02 ...  3.73944710e-03\n",
      "    2.35989951e-02 -1.81340929e-02]\n",
      "  [ 1.34328334e-02 -1.09289605e-02 -1.29078748e-02 ...  3.28403432e-03\n",
      "    2.94043794e-02 -1.93331800e-02]\n",
      "  ...\n",
      "  [ 9.56387445e-03 -2.00806018e-02  2.87284260e-03 ...  1.85585991e-02\n",
      "    9.04675107e-03 -3.26739401e-02]\n",
      "  [ 9.56542604e-03 -2.00800542e-02  2.87202979e-03 ...  1.85586419e-02\n",
      "    9.04522464e-03 -3.26745622e-02]\n",
      "  [ 9.56676155e-03 -2.00796034e-02  2.87131662e-03 ...  1.85586940e-02\n",
      "    9.04390775e-03 -3.26750949e-02]]\n",
      "\n",
      " [[-1.28725136e-03 -1.16569893e-02  6.40157610e-04 ...  6.10560412e-03\n",
      "    6.85314042e-03 -5.62330056e-03]\n",
      "  [-2.48362403e-03 -1.94987971e-02  1.08641433e-03 ...  8.20864551e-03\n",
      "    1.32367415e-02 -1.05473874e-02]\n",
      "  [-7.24905496e-03 -2.21951548e-02  2.82566948e-03 ...  6.60748826e-03\n",
      "    1.42667498e-02 -1.00719491e-02]\n",
      "  ...\n",
      "  [-1.18858535e-02 -2.70321313e-02  3.60114384e-03 ...  2.05464959e-02\n",
      "    1.32447155e-02 -2.72370186e-02]\n",
      "  [-1.18858535e-02 -2.70321220e-02  3.60114686e-03 ...  2.05464978e-02\n",
      "    1.32447146e-02 -2.72370130e-02]\n",
      "  [-1.18858544e-02 -2.70321220e-02  3.60114686e-03 ...  2.05464996e-02\n",
      "    1.32447146e-02 -2.72370130e-02]]], shape=(256, 512, 66), dtype=float32)\n"
     ]
    }
   ],
   "source": [
    "model = CharLSTM(CHAR_LSTM_DIR, preprocessor.get_data_dimensions())\n",
    "for c, s in dataset:\n",
    "    print(s['tune'])\n",
    "    print(tf.sparse.to_dense(s['tune']))\n",
    "    print('-------------- Output ----------------')\n",
    "    print(model(c, s))\n",
    "    break\n",
    "    "
   ]
  },
  {
   "cell_type": "markdown",
   "metadata": {},
   "source": []
  },
  {
   "cell_type": "code",
   "execution_count": null,
   "metadata": {},
   "outputs": [],
   "source": []
  }
 ],
 "metadata": {
  "kernelspec": {
   "display_name": "Python 3",
   "language": "python",
   "name": "python3"
  },
  "language_info": {
   "codemirror_mode": {
    "name": "ipython",
    "version": 3
   },
   "file_extension": ".py",
   "mimetype": "text/x-python",
   "name": "python",
   "nbconvert_exporter": "python",
   "pygments_lexer": "ipython3",
   "version": "3.6.9"
  }
 },
 "nbformat": 4,
 "nbformat_minor": 4
}
