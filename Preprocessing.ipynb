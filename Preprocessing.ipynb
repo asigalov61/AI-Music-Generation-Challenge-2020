{
 "cells": [
  {
   "cell_type": "markdown",
   "metadata": {},
   "source": [
    "## Install dependencies"
   ]
  },
  {
   "cell_type": "code",
   "execution_count": 1,
   "metadata": {},
   "outputs": [],
   "source": [
    "import os\n",
    "import tensorflow as tf\n",
    "\n",
    "from data.abc import ABCPreProcessor"
   ]
  },
  {
   "cell_type": "markdown",
   "metadata": {},
   "source": [
    "## Overview of Preprocessing steps"
   ]
  },
  {
   "cell_type": "markdown",
   "metadata": {},
   "source": [
    "In this notebook, we will be preprocessing two types of data --> **ABC Notation** data and **Audio** data\n",
    "\n",
    "### ABC Notation Data\n",
    "\n",
    "- Strip away **Tune body**, **key**, **meter**, **rhythm** and store all other fields of an ABC track as metadata\n",
    "- Use key and meter as conditioning symbols when generating a tune\n",
    "- Tokenize according to vocabulary of musical transcription tokens\n",
    "\n",
    "- Create a TFRecord Dataset consisting sequence examples like --> **[ tune, meter, key, rhythm ]**\n",
    "\n",
    "### Audio Data\n",
    "- Turning the full audio into short examples (4 seconds by default, but adjustable with flags)\n",
    "- Inferring the fundamental frequency (or \"pitch\") with CREPE\n",
    "- Computing the loudness features\n",
    "\n",
    "- Create TFRecord Dataset consisting sequence examples like --> **[ Audio, f0_feature, loudness_feature ]**\n",
    "\n",
    "#### Each tune be indexed such that using its ID, we can find its ABC Notation as well as related audio files\n",
    "- A tune can be associated with more than one audio file (Different audio lengths!!)\n",
    "\n",
    "At the end of the file, we should merge both the datasets, to obtain a single TFRecord file containing preprocessed ABC data and preprocessed audio files indexed according to the different tunes"
   ]
  },
  {
   "cell_type": "markdown",
   "metadata": {},
   "source": [
    "## Initialize common variables"
   ]
  },
  {
   "cell_type": "code",
   "execution_count": 2,
   "metadata": {},
   "outputs": [],
   "source": [
    "# Mention the path to the datastore\n",
    "BASE_DIR = \"/home/richhiey/Desktop/workspace/projects/AI_Music_Challenge_2020/\"\n",
    "ABC_DATA_DIR = os.path.join(BASE_DIR, \"datasets\", \"abc_data\")\n",
    "AUDIO_DATA_DIR = os.path.join(BASE_DIR, \"datasets\", \"audio\")\n",
    "ABC_TFRECORD_DIR = os.path.join(BASE_DIR, \"tfrecords\", 'abc')\n",
    "AUDIO_TFRECORD_DIR = os.path.join(BASE_DIR, \"tfrecords\", 'audio')\n",
    "PROCESSED_ABC_FILENAME = 'processed-abc-files'\n",
    "PROCESSED_AUDIO_FILENAME = 'processed-audio-files'"
   ]
  },
  {
   "cell_type": "markdown",
   "metadata": {},
   "source": [
    "## Preprocessing - ABC Notation Dataset"
   ]
  },
  {
   "cell_type": "markdown",
   "metadata": {},
   "source": [
    "#### To understand the underlying distribution of tunes in Irish music, it can be helpful to visualize the following quantities:\n",
    "- Calculate maximum length of tunes in each category\n",
    "- Number of tunes in each category\n",
    "- Number of tunes in each key\n",
    "- Number of tunes in each meter"
   ]
  },
  {
   "cell_type": "code",
   "execution_count": 3,
   "metadata": {},
   "outputs": [
    {
     "name": "stdout",
     "output_type": "stream",
     "text": [
      "The raw data has already been processed. Pre-processed information found at - /home/richhiey/Desktop/workspace/projects/AI_Music_Challenge_2020/tfrecords/abc/processed-abc-files.json\n",
      "{'tune': array([[ 2,  4,  2, ...,  0,  0,  0],\n",
      "       [ 2, 11, 14, ...,  0,  0,  0],\n",
      "       [12, 27, 12, ...,  0,  0,  0],\n",
      "       ...,\n",
      "       [11, 12,  1, ...,  0,  0,  0],\n",
      "       [ 7, 24, 11, ...,  0,  0,  0],\n",
      "       [ 9,  6,  3, ...,  0,  0,  0]], dtype=int32), 'K': {'E': 0, 'Dmix': 1, 'Gdor': 2, 'E ': 3, 'A': 4, 'Edor': 5, 'Em': 6, 'Gm': 7, 'Bdor': 8, 'Ador': 9, 'F#m': 10, 'Bm': 11, 'Gmix': 12, 'D': 13, 'Bmix': 14, 'Glyd': 15, 'Cmix': 16, 'F#dor': 17, 'Ddor': 18, 'Dm': 19, 'Emix': 20, 'Amix': 21, 'C': 22, 'F': 23, 'G': 24, 'Am': 25}, 'M': {'C': 0, '3/2': 1, '3/4': 2, '6/4': 3, 'C|': 4, '2/2': 5, '4/4': 6, '2/4': 7, '9/8': 8, '6/8': 9}, 'R': {'slip jig': 0, 'reel': 1, 'song': 2, 'Double jig, march': 3, 'carolan': 4, 'march': 5, 'waltz': 6, 'barndance': 7, 'single jig': 8, 'highland': 9, 'hornpipe': 10, 'mazurka': 11, 'air': 12, 'slide': 13, 'strathspey': 14, 'set dance': 15, 'polka': 16, 'fling': 17, 'hop jig': 18, 'Double jig': 19, 'jig': 20, 'country dance': 21, 'slow air': 22}}\n"
     ]
    },
    {
     "ename": "NameError",
     "evalue": "name 'akajk' is not defined",
     "output_type": "error",
     "traceback": [
      "\u001b[0;31m--------------------------------------------------------------------------\u001b[0m",
      "\u001b[0;31mNameError\u001b[0m                                Traceback (most recent call last)",
      "\u001b[0;32m<ipython-input-3-3a680a8f71da>\u001b[0m in \u001b[0;36m<module>\u001b[0;34m\u001b[0m\n\u001b[1;32m      1\u001b[0m \u001b[0mpreprocessor\u001b[0m \u001b[0;34m=\u001b[0m \u001b[0mABCPreProcessor\u001b[0m\u001b[0;34m(\u001b[0m\u001b[0mABC_TFRECORD_DIR\u001b[0m\u001b[0;34m,\u001b[0m \u001b[0mPROCESSED_ABC_FILENAME\u001b[0m\u001b[0;34m)\u001b[0m\u001b[0;34m\u001b[0m\u001b[0;34m\u001b[0m\u001b[0m\n\u001b[1;32m      2\u001b[0m \u001b[0mjson_path\u001b[0m \u001b[0;34m=\u001b[0m \u001b[0mpreprocessor\u001b[0m\u001b[0;34m.\u001b[0m\u001b[0mprocess\u001b[0m\u001b[0;34m(\u001b[0m\u001b[0mABC_DATA_DIR\u001b[0m\u001b[0;34m)\u001b[0m\u001b[0;34m\u001b[0m\u001b[0;34m\u001b[0m\u001b[0m\n\u001b[0;32m----> 3\u001b[0;31m \u001b[0mtfrecord_path\u001b[0m \u001b[0;34m=\u001b[0m \u001b[0mpreprocessor\u001b[0m\u001b[0;34m.\u001b[0m\u001b[0msave_as_tfrecord_dataset\u001b[0m\u001b[0;34m(\u001b[0m\u001b[0;34m)\u001b[0m\u001b[0;34m\u001b[0m\u001b[0;34m\u001b[0m\u001b[0m\n\u001b[0m\u001b[1;32m      4\u001b[0m \u001b[0mpreprocessed_dataset\u001b[0m \u001b[0;34m=\u001b[0m \u001b[0mpreprocessor\u001b[0m\u001b[0;34m.\u001b[0m\u001b[0mload_tfrecord_dataset\u001b[0m\u001b[0;34m(\u001b[0m\u001b[0;34m)\u001b[0m\u001b[0;34m\u001b[0m\u001b[0;34m\u001b[0m\u001b[0m\n\u001b[1;32m      5\u001b[0m \u001b[0;31m#abc_dataset = preprocessor.prepare_dataset(preprocessed_dataset)\u001b[0m\u001b[0;34m\u001b[0m\u001b[0;34m\u001b[0m\u001b[0;34m\u001b[0m\u001b[0m\n",
      "\u001b[0;32m~/Desktop/workspace/projects/AI_Music_Challenge_2020/AI-Music-Generation-Challenge-2020/data/abc.py\u001b[0m in \u001b[0;36msave_as_tfrecord_dataset\u001b[0;34m(self)\u001b[0m\n\u001b[1;32m     81\u001b[0m \u001b[0;34m\u001b[0m\u001b[0m\n\u001b[1;32m     82\u001b[0m             \u001b[0mprint\u001b[0m\u001b[0;34m(\u001b[0m\u001b[0mfeature_dictionaries\u001b[0m\u001b[0;34m)\u001b[0m\u001b[0;34m\u001b[0m\u001b[0;34m\u001b[0m\u001b[0m\n\u001b[0;32m---> 83\u001b[0;31m             \u001b[0makajk\u001b[0m\u001b[0;34m\u001b[0m\u001b[0;34m\u001b[0m\u001b[0m\n\u001b[0m\u001b[1;32m     84\u001b[0m \u001b[0;34m\u001b[0m\u001b[0m\n\u001b[1;32m     85\u001b[0m             features_dataset = tf.data.Dataset.from_tensor_slices((\n",
      "\u001b[0;31mNameError\u001b[0m: name 'akajk' is not defined"
     ]
    }
   ],
   "source": [
    "preprocessor = ABCPreProcessor(ABC_TFRECORD_DIR, PROCESSED_ABC_FILENAME)\n",
    "json_path = preprocessor.process(ABC_DATA_DIR)\n",
    "tfrecord_path = preprocessor.save_as_tfrecord_dataset()\n",
    "preprocessed_dataset = preprocessor.load_tfrecord_dataset()\n",
    "#abc_dataset = preprocessor.prepare_dataset(preprocessed_dataset)"
   ]
  },
  {
   "cell_type": "code",
   "execution_count": null,
   "metadata": {
    "scrolled": true
   },
   "outputs": [],
   "source": [
    "print(preprocessed_dataset)\n",
    "for x in preprocessed_dataset:\n",
    "    print(tf.io.parse_tensor(x['tune'], tf.int32))\n",
    "    print(x['key'])\n",
    "    print(x['rhythm'])\n",
    "    print(x['meter'])\n",
    "    break"
   ]
  }
 ],
 "metadata": {
  "kernelspec": {
   "display_name": "Python 3",
   "language": "python",
   "name": "python3"
  },
  "language_info": {
   "codemirror_mode": {
    "name": "ipython",
    "version": 3
   },
   "file_extension": ".py",
   "mimetype": "text/x-python",
   "name": "python",
   "nbconvert_exporter": "python",
   "pygments_lexer": "ipython3",
   "version": "3.6.9"
  }
 },
 "nbformat": 4,
 "nbformat_minor": 4
}
