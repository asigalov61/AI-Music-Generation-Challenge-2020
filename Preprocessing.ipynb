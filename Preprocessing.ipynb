{
 "cells": [
  {
   "cell_type": "markdown",
   "metadata": {},
   "source": [
    "## Install dependencies"
   ]
  },
  {
   "cell_type": "code",
   "execution_count": 1,
   "metadata": {},
   "outputs": [],
   "source": [
    "import os\n",
    "import tensorflow as tf\n",
    "%matplotlib inline\n",
    "\n",
    "from data.abc import ABCPreProcessor"
   ]
  },
  {
   "cell_type": "markdown",
   "metadata": {},
   "source": [
    "## Overview of Preprocessing steps"
   ]
  },
  {
   "cell_type": "markdown",
   "metadata": {},
   "source": [
    "In this notebook, we will be preprocessing two types of data --> **ABC Notation** data and **Audio** data\n",
    "\n",
    "### ABC Notation Data\n",
    "\n",
    "- Strip away **Tune body**, **key**, **meter**, **rhythm** and store all other fields of an ABC track as metadata\n",
    "- Use key and meter as conditioning symbols when generating a tune\n",
    "- Tokenize according to vocabulary of musical transcription tokens\n",
    "\n",
    "- Create a TFRecord Dataset consisting sequence examples like --> **[ tune, meter, key, rhythm ]**\n",
    "\n",
    "### Audio Data\n",
    "- Turning the full audio into short examples (4 seconds by default, but adjustable with flags)\n",
    "- Inferring the fundamental frequency (or \"pitch\") with CREPE\n",
    "- Computing the loudness features\n",
    "\n",
    "- Create TFRecord Dataset consisting sequence examples like --> **[ Audio, f0_feature, loudness_feature ]**\n",
    "\n",
    "#### Each tune be indexed such that using its ID, we can find its ABC Notation as well as related audio files\n",
    "- A tune can be associated with more than one audio file (Different audio lengths!!)\n",
    "\n",
    "At the end of the file, we should merge both the datasets, to obtain a single TFRecord file containing preprocessed ABC data and preprocessed audio files indexed according to the different tunes"
   ]
  },
  {
   "cell_type": "markdown",
   "metadata": {},
   "source": [
    "## Initialize common variables"
   ]
  },
  {
   "cell_type": "code",
   "execution_count": 2,
   "metadata": {},
   "outputs": [],
   "source": [
    "# Mention the path to the datastore\n",
    "BASE_DIR = \"/home/rithomas/project/AI-Music-Generation-Challenge-2020/\"\n",
    "ABC_DATA_DIR = os.path.join(\"/home/rithomas/data\", \"ABC\")\n",
    "ABC_TFRECORD_DIR = os.path.join(\"/home/rithomas/cache\", \"ABC\", \"Double-Jigs/\")\n",
    "PROCESSED_ABC_FILENAME = 'processed-abc-files'"
   ]
  },
  {
   "cell_type": "markdown",
   "metadata": {},
   "source": [
    "## Preprocessing - ABC Notation Dataset"
   ]
  },
  {
   "cell_type": "markdown",
   "metadata": {},
   "source": [
    "#### To understand the underlying distribution of tunes in Irish music, it can be helpful to visualize the following quantities:\n",
    "- Maximum length of tunes in each category\n",
    "- Number of tunes in each category\n",
    "- Number of tunes in each key\n",
    "- Number of tunes in each meter"
   ]
  },
  {
   "cell_type": "code",
   "execution_count": 3,
   "metadata": {},
   "outputs": [
    {
     "name": "stderr",
     "output_type": "stream",
     "text": [
      "100%|██████████| 366/366 [00:00<00:00, 6590.91it/s]\n",
      "  0%|          | 0/366 [00:00<?, ?it/s]"
     ]
    },
    {
     "name": "stdout",
     "output_type": "stream",
     "text": [
      "Cool. Lets process these ABC files now!\n",
      "Processing files and writing extracted information to CSV for easy processing from here onwards ...\n",
      "CSV PATH --> /home/rithomas/cache/ABC/Double-Jigs/processed-abc-files.csv\n",
      "Found 1 files in the ABC Data Directory. Looking into these files now ..\n",
      "---------------------------------------------------------\n",
      "0. /home/rithomas/data/ABC/double_jigs_cleaned.abc\n",
      "Extracting information and storing to CSV now ..\n",
      "---------------------------------------------------------\n",
      "Stored tunes from file /home/rithomas/data/ABC/double_jigs_cleaned.abc to CSV!\n",
      "---------------------------------------------------------\n",
      "Number of tunes - 365\n",
      "---------------------------------------------------------\n",
      "ABC Extended Vocabulary:\n",
      "{'word_to_idx': {'C,': '1', '^C,': '2', 'D,': '3', '^D,': '4', 'E,': '5', 'F,': '6', '^F,': '7', 'G,': '8', '^G,': '9', 'A,': '10', '^A,': '11', 'B,': '12', 'C': '13', '^C': '14', 'D': '15', '^D': '16', 'E': '17', 'F': '18', '^F': '19', 'G': '20', '^G': '21', 'A': '22', '^A': '23', 'B': '24', 'c': '25', '^c': '26', 'd': '27', '^d': '28', 'e': '29', 'f': '30', '^f': '31', 'g': '32', '^g': '33', 'a': '34', '^a': '35', 'b': '36', \"c'\": '37', \"^c'\": '38', \"d'\": '39', \"^d'\": '40', \"e'\": '41', \"f'\": '42', \"g'\": '43', \"^g'\": '44', \"a'\": '45', \"^a'\": '46', \"B'\": '47', '_C,': '48', '_D,': '49', '_E,': '50', '_G,': '51', '_A,': '52', '_B,': '53', '_C': '54', '_D': '55', '_E': '56', '_G': '57', '_A': '58', '_B': '59', '_c': '60', '_d': '61', '_e': '62', '_g': '63', '_a': '64', '_b': '65', \"_c'\": '66', \"_d'\": '67', \"_e'\": '68', \"_g'\": '69', \"_a'\": '70', \"_b'\": '71', '=C,': '72', '=E,': '73', '=F,': '74', '=G,': '75', '=A,': '76', '=B,': '77', '=C': '78', '=D': '79', '=E': '80', '=F': '81', '=G': '82', '=A': '83', '=B': '84', '=c': '85', '=d': '86', '=e': '87', '=f': '88', '=g': '89', '=a': '90', '=b': '91', \"=c'\": '92', \"=d'\": '93', \"=e'\": '94', \"=f'\": '95', \"=g'\": '96', \"=a'\": '97', \"=b'\": '98', 'z': '99', '[': '100', ']': '101', '{': '102', '}': '103', '(': '104', ')': '105', '~': '106', '.': '107', '|': '108', '|:': '109', ':|': '110', '|]': '111', '||': '112', '[|': '113', '::': '114', '|1': '115', '|2': '116', '(2': '117', '(3': '118', '(4': '119', '(5': '120', '(6': '121', '(7': '122', '(9': '123', '/2': '124', '/3': '125', '/4': '126', '/8': '127', '2': '128', '3': '129', '4': '130', '5': '131', '6': '132', '7': '133', '8': '134', '9': '135', '12': '136', '16': '137', '3/4': '138', '3/2': '139', '5/2': '140', '7/2': '141', '2>': '142', '2<': '143', '/2>': '144', '/2<': '145', '4>': '146', '<': '147', '>': '148', '<s>': '149', '</s>': '150', 'M:6/8': '151', 'K:D': '152', 'K:A': '153', 'K:G': '154', 'K:Am': '155', 'K:Ddor': '156', 'K:Amix': '157', 'K:Em': '158', 'K:Bm': '159', 'K:Dmix': '160', 'K:Edor': '161', 'K:Ador': '162', 'K:C': '163', 'K:Dm': '164', 'K:Gdor': '165', 'K:F': '166', 'K:Gm': '167'}, 'idx_to_word': {'1': 'C,', '2': '^C,', '3': 'D,', '4': '^D,', '5': 'E,', '6': 'F,', '7': '^F,', '8': 'G,', '9': '^G,', '10': 'A,', '11': '^A,', '12': 'B,', '13': 'C', '14': '^C', '15': 'D', '16': '^D', '17': 'E', '18': 'F', '19': '^F', '20': 'G', '21': '^G', '22': 'A', '23': '^A', '24': 'B', '25': 'c', '26': '^c', '27': 'd', '28': '^d', '29': 'e', '30': 'f', '31': '^f', '32': 'g', '33': '^g', '34': 'a', '35': '^a', '36': 'b', '37': \"c'\", '38': \"^c'\", '39': \"d'\", '40': \"^d'\", '41': \"e'\", '42': \"f'\", '43': \"g'\", '44': \"^g'\", '45': \"a'\", '46': \"^a'\", '47': \"B'\", '48': '_C,', '49': '_D,', '50': '_E,', '51': '_G,', '52': '_A,', '53': '_B,', '54': '_C', '55': '_D', '56': '_E', '57': '_G', '58': '_A', '59': '_B', '60': '_c', '61': '_d', '62': '_e', '63': '_g', '64': '_a', '65': '_b', '66': \"_c'\", '67': \"_d'\", '68': \"_e'\", '69': \"_g'\", '70': \"_a'\", '71': \"_b'\", '72': '=C,', '73': '=E,', '74': '=F,', '75': '=G,', '76': '=A,', '77': '=B,', '78': '=C', '79': '=D', '80': '=E', '81': '=F', '82': '=G', '83': '=A', '84': '=B', '85': '=c', '86': '=d', '87': '=e', '88': '=f', '89': '=g', '90': '=a', '91': '=b', '92': \"=c'\", '93': \"=d'\", '94': \"=e'\", '95': \"=f'\", '96': \"=g'\", '97': \"=a'\", '98': \"=b'\", '99': 'z', '100': '[', '101': ']', '102': '{', '103': '}', '104': '(', '105': ')', '106': '~', '107': '.', '108': '|', '109': '|:', '110': ':|', '111': '|]', '112': '||', '113': '[|', '114': '::', '115': '|1', '116': '|2', '117': '(2', '118': '(3', '119': '(4', '120': '(5', '121': '(6', '122': '(7', '123': '(9', '124': '/2', '125': '/3', '126': '/4', '127': '/8', '128': '2', '129': '3', '130': '4', '131': '5', '132': '6', '133': '7', '134': '8', '135': '9', '136': '12', '137': '16', '138': '3/4', '139': '3/2', '140': '5/2', '141': '7/2', '142': '2>', '143': '2<', '144': '/2>', '145': '/2<', '146': '4>', '147': '<', '148': '>', '149': '<s>', '150': '</s>', '151': 'M:6/8', '152': 'K:D', '153': 'K:A', '154': 'K:G', '155': 'K:Am', '156': 'K:Ddor', '157': 'K:Amix', '158': 'K:Em', '159': 'K:Bm', '160': 'K:Dmix', '161': 'K:Edor', '162': 'K:Ador', '163': 'K:C', '164': 'K:Dm', '165': 'K:Gdor', '166': 'K:F', '167': 'K:Gm'}}\n",
      "---------------------------------------------------------\n",
      "Preparing to save extracted information into a TFRecord file at /home/rithomas/cache/ABC/Double-Jigs/processed-abc-files.tfrecord ...\n",
      "Creating TFRecord File ...\n"
     ]
    },
    {
     "name": "stderr",
     "output_type": "stream",
     "text": [
      "100%|█████████▉| 365/366 [01:16<00:00,  4.78it/s]"
     ]
    },
    {
     "name": "stdout",
     "output_type": "stream",
     "text": [
      "Done saving to TFRecord Dataset!\n"
     ]
    },
    {
     "name": "stderr",
     "output_type": "stream",
     "text": [
      "\n"
     ]
    }
   ],
   "source": [
    "preprocessor = ABCPreProcessor(ABC_TFRECORD_DIR, PROCESSED_ABC_FILENAME)\n",
    "json_path = preprocessor.process(ABC_DATA_DIR)\n",
    "tfrecord_path = preprocessor.save_as_tfrecord_dataset(\n",
    "    os.path.join(ABC_TFRECORD_DIR, 'tunes_vocab.json')\n",
    ")"
   ]
  }
 ],
 "metadata": {
  "kernelspec": {
   "display_name": "ai_music_challenge",
   "language": "python",
   "name": "ai_music_challenge"
  },
  "language_info": {
   "codemirror_mode": {
    "name": "ipython",
    "version": 3
   },
   "file_extension": ".py",
   "mimetype": "text/x-python",
   "name": "python",
   "nbconvert_exporter": "python",
   "pygments_lexer": "ipython3",
   "version": "3.6.9"
  }
 },
 "nbformat": 4,
 "nbformat_minor": 4
}
